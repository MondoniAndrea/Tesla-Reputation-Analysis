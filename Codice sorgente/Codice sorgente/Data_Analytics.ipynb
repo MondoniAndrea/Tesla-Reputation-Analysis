{
  "cells": [
    {
      "cell_type": "markdown",
      "source": [
        "**Indicazioni all'utilizzo**\n",
        "1. Eseguire il notebook con GPU attiva\n",
        "Per ottenere prestazioni adeguate, è fondamentale eseguire il notebook su una sessione con accelerazione GPU.\n",
        "2. Variabile ```is_debug = True```: Se impostata su True, attiva stampe estese per il debug:\n",
        "  - Mostra circa un centinaio di esempi di commenti/testi.\n",
        "  - Visualizza tutti i grafici generati nel processo.\n",
        "3. Variabile ```save = True```: Se attiva, salva automaticamente tutti i grafici generati in formato immagine (graph_name.png) nella directory corrente.\n",
        "4. Nota sulla prima cella di installazione:\n",
        "```\n",
        "!pip install transformers_interpret\n",
        "```\n",
        "  - Questa installazione serve esclusivamente per la parte di explainability.\n",
        "  - tale cella causare un errore che dipende dalle versione di ```numpy``` di cui necessita.\n",
        "  - Dopo l'installazione è necessario riavviare la sessione\n",
        "  - Se non si vuole visionare l'explainability commentare la cella.\n"
      ],
      "metadata": {
        "id": "g9ZX1UMrVuDb"
      }
    },
    {
      "cell_type": "code",
      "source": [
        "!pip install transformers_interpret # causa un erroe per via della versione di numpy di cui necessita"
      ],
      "metadata": {
        "id": "-1kpTqCd4Cgj"
      },
      "execution_count": 4,
      "outputs": []
    },
    {
      "cell_type": "code",
      "source": [
        "# Flag to control debugging output and intermediate visualizations\n",
        "is_debugging = False\n",
        "# Flag to control saving generated plots\n",
        "save = False"
      ],
      "metadata": {
        "id": "zskmfafluxPw"
      },
      "execution_count": 5,
      "outputs": []
    },
    {
      "cell_type": "markdown",
      "metadata": {
        "id": "wXyohVhpYgd-"
      },
      "source": [
        "# Data Exploration"
      ]
    },
    {
      "cell_type": "markdown",
      "source": [
        "## Data loading and cleaning"
      ],
      "metadata": {
        "id": "mk1SdfvJwSry"
      }
    },
    {
      "cell_type": "code",
      "execution_count": 6,
      "metadata": {
        "id": "5ZmOnGT6GwkC"
      },
      "outputs": [],
      "source": [
        "# Import\n",
        "import pandas as pd\n",
        "import random"
      ]
    },
    {
      "cell_type": "code",
      "execution_count": 7,
      "metadata": {
        "id": "kAJ78SmfHAFN"
      },
      "outputs": [],
      "source": [
        "def random_items(df: pd.DataFrame, n: int = 3) -> None:\n",
        "    \"\"\"\n",
        "    Print n random entries from a DataFrame, showing full_text, title, and text\n",
        "    if available and not null/empty.\n",
        "\n",
        "    Args:\n",
        "        df (pd.DataFrame): The input DataFrame to sample from.\n",
        "        n (int, optional): The number of random items to print. Defaults to 3.\n",
        "    \"\"\"\n",
        "    if df.empty:\n",
        "        print(\"DataFrame is empty.\")\n",
        "        return\n",
        "\n",
        "    # Ensure we don't sample more rows than available\n",
        "    sample_size = min(n, len(df))\n",
        "\n",
        "    # Sample the DataFrame with a random state for reproducibility of the sample within a run\n",
        "    sample_df = df.sample(n=sample_size, random_state=random.randint(0, sample_size))\n",
        "\n",
        "    print(f\"\\nDisplaying {sample_size} random items:\")\n",
        "    print(\"=\" * 60)\n",
        "\n",
        "    for i, (_, row) in enumerate(sample_df.iterrows(), start=1):\n",
        "        print(f\"Item {i} ---\")\n",
        "\n",
        "        # Use .get() that provide None if the column doesn't exist\n",
        "        full_text = row.get('full_text')\n",
        "        title = row.get('title')\n",
        "        text = row.get('text')\n",
        "\n",
        "        # Check if the column value exists and is not null or empty after stripping whitespace\n",
        "        if full_text is not None and pd.notnull(full_text) and str(full_text).strip():\n",
        "            print(f\"Full Text: {full_text}\")\n",
        "        if title is not None and pd.notnull(title) and str(title).strip():\n",
        "            print(f\"Title: {title}\")\n",
        "        if text is not None and pd.notnull(text) and str(text).strip():\n",
        "            print(f\"Text: {text}\")\n",
        "\n",
        "        print(\"-\" * 60) # Separator between items\n",
        "    print(\"=\" * 60) # Footer separator"
      ]
    },
    {
      "cell_type": "code",
      "execution_count": 8,
      "metadata": {
        "id": "GoUJCvJAYtt5"
      },
      "outputs": [],
      "source": [
        "# Resource link\n",
        "url=('https://raw.githubusercontent.com/FrancescoRomeo02/TeslaAnalysis/refs/heads/main/')"
      ]
    },
    {
      "cell_type": "code",
      "execution_count": 9,
      "metadata": {
        "collapsed": true,
        "id": "UTouTrY_aXJp"
      },
      "outputs": [],
      "source": [
        "# posts dataframe\n",
        "df_posts_url = url + 'tesla_elon_reputation_dataset_enhanced_posts_only.csv'\n",
        "df_posts = pd.read_csv(df_posts_url)\n",
        "if is_debugging:\n",
        "  random_items(df_posts)"
      ]
    },
    {
      "cell_type": "code",
      "execution_count": 10,
      "metadata": {
        "collapsed": true,
        "id": "sbfz2tH_afsi"
      },
      "outputs": [],
      "source": [
        "# comments dataframe\n",
        "df_comments_url = url + 'tesla_elon_reputation_dataset_enhanced_comments_only.csv'\n",
        "df_comments = pd.read_csv(df_comments_url)\n",
        "if is_debugging:\n",
        "  random_items(df_comments)"
      ]
    },
    {
      "cell_type": "code",
      "execution_count": 11,
      "metadata": {
        "id": "mnFlK3ZJfRI5",
        "collapsed": true
      },
      "outputs": [],
      "source": [
        "if is_debugging:\n",
        "  print(f'DataFrame load compelted, Post loaded: {df_posts[\"type\"].count()}, Comments loaded: {df_comments[\"type\"].count()}.')\n",
        "  # manual random df evaluation\n",
        "  print(\"Visualiziamo 50 elementi random del dataframe posts:\")\n",
        "  random_items(df_posts, 50)\n",
        "  print(\"Visualiziamo 50 elementi random del dataframe comments:\")\n",
        "  random_items(df_comments, 50)"
      ]
    },
    {
      "cell_type": "markdown",
      "metadata": {
        "id": "EXx5sAsXt76_"
      },
      "source": [
        "### Eliminiazione di alcuni commenti sospetti e un user identificato come bot"
      ]
    },
    {
      "cell_type": "code",
      "execution_count": 12,
      "metadata": {
        "id": "P8eTn-wItKqT"
      },
      "outputs": [],
      "source": [
        "target_string = \"I am a bot, and this action was performed automatically.\"\n",
        "# Filter out rows in 'df_comments' where the 'text' column contains the target_string.\n",
        "df_comments = df_comments[~df_comments['text'].str.contains(target_string, na=False)].copy()\n",
        "\n",
        "if is_debugging:\n",
        "  print(\"Comments number after bot exclusion:\", len(df_comments))"
      ]
    },
    {
      "cell_type": "code",
      "execution_count": 13,
      "metadata": {
        "id": "H76vJzC-vCbg"
      },
      "outputs": [],
      "source": [
        "sus_user = \"TeslaAI\"\n",
        "# Filter out rows in 'df_posts' where the 'author' is the suspected bot user.\n",
        "df_posts = df_posts[df_posts['author'] != sus_user].copy()\n",
        "\n",
        "if is_debugging:\n",
        "  print(\"Posts number after sus user exclusion:\", len(df_posts))"
      ]
    },
    {
      "cell_type": "markdown",
      "metadata": {
        "id": "4iG-7s8txRlp"
      },
      "source": [
        "## Grafici"
      ]
    },
    {
      "cell_type": "code",
      "execution_count": 14,
      "metadata": {
        "id": "kQi1oTFAxWFc"
      },
      "outputs": [],
      "source": [
        "# Import\n",
        "import matplotlib.pyplot as plt\n",
        "import seaborn as sns\n",
        "import numpy as np"
      ]
    },
    {
      "cell_type": "code",
      "execution_count": 15,
      "metadata": {
        "id": "Jn66zV1lIMMP"
      },
      "outputs": [],
      "source": [
        "# define color palette\n",
        "bar_plot = 'Blues'\n",
        "sentiment_palette = 'RdYlGn'"
      ]
    },
    {
      "cell_type": "markdown",
      "source": [
        "### Bar Plot"
      ],
      "metadata": {
        "id": "_HmcjfW2749S"
      }
    },
    {
      "cell_type": "code",
      "source": [
        "def create_bar_plot(dataframe, title, xlabel, ylabel, x, y, hue=None, palette=bar_plot, scale=False, save=False, range=False) -> None:\n",
        "    \"\"\"\n",
        "    Create a flexible bar plot using seaborn and matplotlib.\n",
        "\n",
        "    Args:\n",
        "        dataframe (pd.DataFrame): Data to plot.\n",
        "        title (str): Title of the plot.\n",
        "        xlabel (str): Label for the x-axis.\n",
        "        ylabel (str): Label for the y-axis.\n",
        "        x (str): Column name for x-axis.\n",
        "        y (str): Column name for y-axis.\n",
        "        hue (str, optional): Column name for hue (e.g. categories). Default is None.\n",
        "        palette (str): Seaborn color palette. Default is 'Blues'.\n",
        "        scale (bool): If True, set y-axis to log scale.\n",
        "        save (bool): If True, saves the figure as PNG using the title.\n",
        "    \"\"\"\n",
        "\n",
        "    num_categories = dataframe[x].nunique()\n",
        "    fig_width = max(10, num_categories * 0.6)\n",
        "    plt.figure(figsize=(fig_width, 8))\n",
        "\n",
        "    ax = sns.barplot(data=dataframe, x=x, y=y, hue=hue, palette=bar_plot if hue else None, legend=hue is not None)\n",
        "\n",
        "    mean_value = dataframe[y].mean()\n",
        "    plt.axhline(mean_value, color='red', linestyle=':', alpha=0.7,\n",
        "                label=f\"Mean = {mean_value:.2f}\".rstrip('0').rstrip('.'))\n",
        "\n",
        "    plt.title(title)\n",
        "    plt.xlabel(xlabel, fontsize=12)\n",
        "    plt.ylabel(ylabel, fontsize=12)\n",
        "    plt.xticks(rotation=45, ha='right')\n",
        "    if range:\n",
        "      plt.ylim(1, 5)\n",
        "\n",
        "    if scale:\n",
        "        plt.yscale('log')\n",
        "\n",
        "    for p in ax.patches:\n",
        "        height = p.get_height()\n",
        "        if height > 0:\n",
        "            formatted = f'{height:.2f}'.rstrip('0').rstrip('.') if isinstance(height, float) else str(height)\n",
        "            ax.annotate(formatted,\n",
        "                        (p.get_x() + p.get_width() / 2, height),\n",
        "                        ha='center', va='bottom', fontsize=12,\n",
        "                        xytext=(0, 0), textcoords='offset points')\n",
        "\n",
        "    plt.legend()\n",
        "    plt.tight_layout()\n",
        "\n",
        "    if save:\n",
        "        safe_title = title.lower().replace(' ', '_')\n",
        "        plt.savefig(f\"{safe_title}.png\", dpi=300)\n",
        "\n",
        "    plt.show()"
      ],
      "metadata": {
        "id": "iNi_MvENxOKl"
      },
      "execution_count": 16,
      "outputs": []
    },
    {
      "cell_type": "code",
      "source": [
        "# Use a copy to avoid warning\n",
        "df_posts_cp = df_posts.copy()\n",
        "df_comments_cp = df_comments.copy()\n",
        "\n",
        "# Convert created_date to datetime\n",
        "df_posts['created_date'] = pd.to_datetime(df_posts['created_date'])\n",
        "df_posts['year'] = df_posts['created_date'].dt.year\n",
        "\n",
        "df_comments['created_date'] = pd.to_datetime(df_comments['created_date'])\n",
        "df_comments['year'] = df_comments['created_date'].dt.year"
      ],
      "metadata": {
        "id": "aZ4rU_2Gws1Q"
      },
      "execution_count": 17,
      "outputs": []
    },
    {
      "cell_type": "code",
      "source": [
        "# Count posts and comments per year\n",
        "posts_per_year = df_posts['year'].value_counts().sort_index()\n",
        "comments_per_year = df_comments['year'].value_counts().sort_index()\n",
        "\n",
        "# Convert to DataFrame for plotting\n",
        "posts_per_year = pd.DataFrame({'year': posts_per_year.index, 'count': posts_per_year.values})\n",
        "comments_per_year = pd.DataFrame({'year': comments_per_year.index, 'count': comments_per_year.values})"
      ],
      "metadata": {
        "id": "nrvdTiiuf6mk"
      },
      "execution_count": 18,
      "outputs": []
    },
    {
      "cell_type": "code",
      "source": [
        "# show/ save \"Number of posts per year\" plot\n",
        "\n",
        "if is_debugging:\n",
        "  create_bar_plot(\n",
        "      title='Number of posts per year',\n",
        "      xlabel='Year',\n",
        "      ylabel='Number of posts',\n",
        "      dataframe=posts_per_year,\n",
        "      x='year',\n",
        "      y='count',\n",
        "      hue='year',\n",
        "      save = save\n",
        "  )"
      ],
      "metadata": {
        "id": "SUwS1oj2y_fg"
      },
      "execution_count": 19,
      "outputs": []
    },
    {
      "cell_type": "code",
      "source": [
        "# show/ save \"Number of comments per year\" plot\n",
        "\n",
        "if is_debugging:\n",
        "  create_bar_plot(\n",
        "      title='Number of comments per year',\n",
        "      xlabel='Year',\n",
        "      ylabel='Number of comments',\n",
        "      dataframe=comments_per_year,\n",
        "      x='year',\n",
        "      y='count',\n",
        "      hue='year',\n",
        "      save = save\n",
        "  )"
      ],
      "metadata": {
        "id": "0MU_XG_Cw9ui"
      },
      "execution_count": 20,
      "outputs": []
    },
    {
      "cell_type": "code",
      "execution_count": 21,
      "metadata": {
        "id": "FOMD1fkFJAV8"
      },
      "outputs": [],
      "source": [
        "# Count the number of posts per subreddit\n",
        "posts = df_posts.groupby('subreddit').size().rename('Posts')\n",
        "\n",
        "# Count the number of comments per subreddit\n",
        "comments = df_comments.groupby('subreddit').size().rename('Comments')\n",
        "\n",
        "# Combine post and comment counts into a single DataFrame\n",
        "counts = pd.concat([posts, comments], axis=1).fillna(0).astype(int).reset_index()\n",
        "\n",
        "# Reshape the data for plotting: one row per subreddit-type pair\n",
        "melted_counts = counts.melt(id_vars='subreddit', var_name='Type', value_name='Count')\n",
        "\n",
        "# Rename column for consistency in plot labels\n",
        "melted_counts.rename(columns={'subreddit': 'Subreddit'}, inplace=True)"
      ]
    },
    {
      "cell_type": "code",
      "execution_count": 22,
      "metadata": {
        "id": "f4xOOb_Mlg4O"
      },
      "outputs": [],
      "source": [
        "# show/ save \"Number of posts and comments per year\" plot\n",
        "\n",
        "if is_debugging:\n",
        "  create_bar_plot(\n",
        "      dataframe=melted_counts,\n",
        "      title='Number of posts and comments per subreddit',\n",
        "      xlabel='Subreddit',\n",
        "      ylabel='Count',\n",
        "      x='Subreddit',\n",
        "      y='Count',\n",
        "      hue='Type',\n",
        "      save = save\n",
        "  )"
      ]
    },
    {
      "cell_type": "code",
      "execution_count": 23,
      "metadata": {
        "id": "TJsawwLeIx10"
      },
      "outputs": [],
      "source": [
        "# Current subs for subreddits\n",
        "subreddit_subscribers = {\n",
        "    'teslamotors': 3400000,\n",
        "    'TeslaLounge': 193000,\n",
        "    'electricvehicles': 354000,\n",
        "    'elonmusk': 2000000,\n",
        "    'ElonMusketeers': 3100,\n",
        "    'Musk': 3200,\n",
        "    'technology': 19000000,\n",
        "    'cars': 740000\n",
        "}"
      ]
    },
    {
      "cell_type": "code",
      "execution_count": 24,
      "metadata": {
        "id": "AqXEKf93I0Gf"
      },
      "outputs": [],
      "source": [
        "def add_log_normalized_score(df, subreddit_subs):\n",
        "    \"\"\"\n",
        "    Adds a new column 'score_log_norm' to the dataframe by normalizing the 'score'\n",
        "    using the natural logarithm of the number of subreddit subscribers.\n",
        "\n",
        "    Args:\n",
        "        df (pd.DataFrame): The original dataframe with at least 'score' and 'subreddit'.\n",
        "        subreddit_subs (dict): Dictionary mapping subreddit names to number of subscribers.\n",
        "\n",
        "    Returns:\n",
        "        pd.DataFrame: The dataframe with an additional 'score_log_norm' column.\n",
        "    \"\"\"\n",
        "    df = df.copy()\n",
        "    df['subscribers'] = df['subreddit'].map(subreddit_subs)\n",
        "    df['score_log_norm'] = df['score'] / np.log1p(df['subscribers'])\n",
        "    return df"
      ]
    },
    {
      "cell_type": "code",
      "execution_count": 25,
      "metadata": {
        "id": "IVow5zeMl_Le"
      },
      "outputs": [],
      "source": [
        "# Apply log normalization to both posts and comments using the provided subreddit subscriber counts\n",
        "df_posts_norm = add_log_normalized_score(df_posts, subreddit_subscribers)\n",
        "df_comments_norm = add_log_normalized_score(df_comments, subreddit_subscribers)\n",
        "\n",
        "# Create pivot tables to compute the mean log-normalized score for each subreddit (posts and comments separately)\n",
        "heatmap_data_posts_norm = df_posts_norm.pivot_table(\n",
        "    index='subreddit',\n",
        "    values='score_log_norm',\n",
        "    aggfunc='mean'\n",
        ")\n",
        "\n",
        "heatmap_data_comments_norm = df_comments_norm.pivot_table(\n",
        "    index='subreddit',\n",
        "    values='score_log_norm',\n",
        "    aggfunc='mean'\n",
        ")"
      ]
    },
    {
      "cell_type": "code",
      "source": [
        "# Add 'type' column to distinguish between posts and comments\n",
        "df_posts_norm['type'] = 'Post'\n",
        "df_comments_norm['type'] = 'Comment'\n",
        "\n",
        "# Select only necessary columns for plotting\n",
        "df_posts_plot = df_posts_norm[['subreddit', 'type', 'score_log_norm']]\n",
        "df_comments_plot = df_comments_norm[['subreddit', 'type', 'score_log_norm']]\n",
        "\n",
        "# Concatenate the post and comment DataFrames into a single DataFrame\n",
        "combined_df = pd.concat([df_posts_plot, df_comments_plot], ignore_index=True)\n",
        "\n",
        "# Group by subreddit and content type, then compute the average log-normalized score\n",
        "df_grouped = combined_df.groupby(['subreddit', 'type'], as_index=False)['score_log_norm'].mean()\n",
        "\n",
        "# Sort the results by normalized score in descending order for better visualization\n",
        "df_grouped = df_grouped.sort_values('score_log_norm', ascending=False)"
      ],
      "metadata": {
        "id": "nmB7vXPi5qH1"
      },
      "execution_count": 26,
      "outputs": []
    },
    {
      "cell_type": "code",
      "source": [
        "# show/ save \"Log Normalized Score by Subreddit and Type\" plot\n",
        "\n",
        "if is_debugging:\n",
        "  create_bar_plot(\n",
        "      df_grouped,\n",
        "      title='Log Normalized Score by Subreddit and Type',\n",
        "      xlabel='Subreddit',\n",
        "      ylabel='Log Normalized Score',\n",
        "      x='subreddit',\n",
        "      y='score_log_norm',\n",
        "      hue='type',\n",
        "      scale=True,\n",
        "      save=save\n",
        "  )"
      ],
      "metadata": {
        "id": "y_7GTeu0goYo"
      },
      "execution_count": 27,
      "outputs": []
    },
    {
      "cell_type": "markdown",
      "source": [
        "### Altri Plot"
      ],
      "metadata": {
        "id": "K_egdNRc8Y0J"
      }
    },
    {
      "cell_type": "code",
      "execution_count": 28,
      "metadata": {
        "id": "_SCqmGk2JFLF"
      },
      "outputs": [],
      "source": [
        "# Count occurrences of 'mention_type' in both posts and comments, and label each with its origin\n",
        "posts_counts = (\n",
        "    df_posts['mention_type']\n",
        "    .value_counts()\n",
        "    .rename_axis('Mention Type')\n",
        "    .reset_index(name='Count')\n",
        ")\n",
        "posts_counts['Type'] = 'Posts'\n",
        "\n",
        "comments_counts = (\n",
        "    df_comments['mention_type']\n",
        "    .value_counts()\n",
        "    .rename_axis('Mention Type')\n",
        "    .reset_index(name='Count')\n",
        ")\n",
        "comments_counts['Type'] = 'Comments'\n",
        "\n",
        "# Combine the two DataFrames into a single one for comparative analysis\n",
        "melted_mention_counts = pd.concat([posts_counts, comments_counts], ignore_index=True)"
      ]
    },
    {
      "cell_type": "code",
      "execution_count": 29,
      "metadata": {
        "id": "bmjCgxRUjHma"
      },
      "outputs": [],
      "source": [
        "# show/ save \"Counting by mention type\" plot\n",
        "\n",
        "if is_debugging:\n",
        "  create_bar_plot(\n",
        "      dataframe=melted_mention_counts,\n",
        "      title='Counting by mention type',\n",
        "      xlabel='Mention Type',\n",
        "      ylabel='Count',\n",
        "      x='Mention Type',\n",
        "      y='Count',\n",
        "      hue='Type',\n",
        "  )"
      ]
    },
    {
      "cell_type": "code",
      "execution_count": 30,
      "metadata": {
        "id": "FEJoHKehjHho"
      },
      "outputs": [],
      "source": [
        "# Remove '[deleted]' authors from the original DataFrames\n",
        "author_counts_posts = df_posts[df_posts['author'] != '[deleted]']['author'].value_counts()\n",
        "author_counts_comments = df_comments[df_comments['author'] != '[deleted]']['author'].value_counts()\n",
        "\n",
        "# Identify authors who appear more than once in both posts and comments\n",
        "common_authors = author_counts_posts.index.intersection(author_counts_comments.index)\n",
        "common_authors_filtered = [\n",
        "    author for author in common_authors\n",
        "    if author_counts_posts[author] > 1 and author_counts_comments[author] > 1\n",
        "]\n",
        "\n",
        "# Create a DataFrame with combined post and comment counts\n",
        "combined_counts = pd.DataFrame({\n",
        "    'Posts': author_counts_posts[common_authors_filtered],\n",
        "    'Comments': author_counts_comments[common_authors_filtered]\n",
        "})\n",
        "\n",
        "# Add total activity (Posts + Comments) and sort to get top 3\n",
        "combined_counts['Total'] = combined_counts['Posts'] + combined_counts['Comments']\n",
        "top_3_authors = combined_counts.sort_values('Total', ascending=False).head(3)\n",
        "\n",
        "# Debug output if enabled\n",
        "if is_debugging:\n",
        "    print(\"Top 3 authors (excluding '[deleted]') active in both posts and comments:\")\n",
        "    print(top_3_authors)"
      ]
    },
    {
      "cell_type": "markdown",
      "source": [
        "#### Eliminiamo le variabili non più necessarie per recuperare spazio"
      ],
      "metadata": {
        "id": "rJRHQzbVkRhS"
      }
    },
    {
      "cell_type": "code",
      "source": [
        "# Get the list of all variables of type DataFrame in the global scope\n",
        "dfs = %who_ls DataFrame\n",
        "\n",
        "# Define the DataFrames you want to keep\n",
        "keep_dfs = ['df_posts', 'df_comments']\n",
        "\n",
        "# Delete all DataFrames except the ones explicitly listed\n",
        "for var in dfs:\n",
        "    if var not in keep_dfs:\n",
        "        print(f\"Deleting {var}\")\n",
        "        del globals()[var]\n",
        "\n",
        "# Confirm which DataFrames are still present\n",
        "remaining_dfs = %who_ls DataFrame\n",
        "print(\"\\nRemaining DataFrames:\", remaining_dfs)"
      ],
      "metadata": {
        "id": "N6j4dlm98iXL",
        "colab": {
          "base_uri": "https://localhost:8080/"
        },
        "outputId": "cef4980f-b491-473f-bcd7-276f1b159989"
      },
      "execution_count": 31,
      "outputs": [
        {
          "output_type": "stream",
          "name": "stdout",
          "text": [
            "Deleting combined_counts\n",
            "Deleting combined_df\n",
            "Deleting comments_counts\n",
            "Deleting comments_per_year\n",
            "Deleting counts\n",
            "Deleting df_comments_cp\n",
            "Deleting df_comments_norm\n",
            "Deleting df_comments_plot\n",
            "Deleting df_grouped\n",
            "Deleting df_posts_cp\n",
            "Deleting df_posts_norm\n",
            "Deleting df_posts_plot\n",
            "Deleting heatmap_data_comments_norm\n",
            "Deleting heatmap_data_posts_norm\n",
            "Deleting melted_counts\n",
            "Deleting melted_mention_counts\n",
            "Deleting posts_counts\n",
            "Deleting posts_per_year\n",
            "Deleting top_3_authors\n",
            "\n",
            "Remaining DataFrames: ['df_comments', 'df_posts']\n"
          ]
        }
      ]
    },
    {
      "cell_type": "markdown",
      "metadata": {
        "id": "nGNWF_d02XnH"
      },
      "source": [
        "## Features Selection"
      ]
    },
    {
      "cell_type": "code",
      "source": [
        "import re"
      ],
      "metadata": {
        "id": "7lj1nM-zkvcr"
      },
      "execution_count": 32,
      "outputs": []
    },
    {
      "cell_type": "code",
      "source": [
        "def find_most_frequent_keyword(text, keywords):\n",
        "    \"\"\"\n",
        "    Identify the most frequently occurring keyword in a given text.\n",
        "\n",
        "    Parameters:\n",
        "    - text (str): The input text to search through.\n",
        "    - keywords (list of str): A list of keywords to count in the text.\n",
        "\n",
        "    Returns:\n",
        "    - str: The keyword with the highest frequency based on exact matches.\n",
        "    - np.nan: If the text is empty, invalid, or none of the keywords are found.\n",
        "\n",
        "    Notes:\n",
        "    - The function is case-insensitive.\n",
        "    - Keywords are matched using word boundaries to avoid partial matches.\n",
        "    - If multiple keywords have the same maximum frequency, the first in the list is returned.\n",
        "    \"\"\"\n",
        "    if not isinstance(text, str) or not text.strip():\n",
        "        return np.nan\n",
        "\n",
        "    text = text.lower()\n",
        "\n",
        "    # Count exact keyword matches using word boundaries\n",
        "    counts = {\n",
        "        kw: len(re.findall(rf'\\b{re.escape(kw)}\\b', text))\n",
        "        for kw in keywords\n",
        "    }\n",
        "\n",
        "    max_count = max(counts.values())\n",
        "    if max_count == 0:\n",
        "        return np.nan\n",
        "\n",
        "    # Return the first keyword with the highest count\n",
        "    for kw in keywords:\n",
        "        if counts[kw] == max_count:\n",
        "            return kw"
      ],
      "metadata": {
        "id": "k3t4iTsTkloz"
      },
      "execution_count": 33,
      "outputs": []
    },
    {
      "cell_type": "code",
      "execution_count": 34,
      "metadata": {
        "id": "874CG54E2bZd"
      },
      "outputs": [],
      "source": [
        "if is_debugging:\n",
        "    # Print column names of posts and comments DataFrames for inspection\n",
        "    print(\"Posts dataframe columns names:\")\n",
        "    print(df_posts.columns)\n",
        "\n",
        "    print(\"=\" * 60)\n",
        "\n",
        "    print(\"Comments dataframe columns names:\")\n",
        "    print(df_comments.columns)"
      ]
    },
    {
      "cell_type": "code",
      "source": [
        "# Define the relevant columns to retain for posts and comments\n",
        "columns_to_keep = [\n",
        "    'type',\n",
        "    'text',\n",
        "    'title',\n",
        "    'score',\n",
        "    'subreddit',\n",
        "    'created_date',\n",
        "    'mention_type',\n",
        "    'author'\n",
        "]\n",
        "\n",
        "# Create independent copies of the filtered data to avoid altering original DataFrames\n",
        "posts_df = df_posts[columns_to_keep].copy()\n",
        "comments_df = df_comments[columns_to_keep].copy()"
      ],
      "metadata": {
        "id": "k9Viq1W_-Br_"
      },
      "execution_count": 35,
      "outputs": []
    },
    {
      "cell_type": "code",
      "source": [
        "# Clean and filter posts: remove rows with missing or empty titles\n",
        "posts_df = posts_df.dropna(subset=['title'])\n",
        "posts_df = posts_df[posts_df['title'].str.strip().astype(bool)]\n",
        "\n",
        "# Clean and filter comments: remove rows with missing or empty texts\n",
        "comments_df = comments_df[comments_df['text'].str.strip().astype(bool)]"
      ],
      "metadata": {
        "id": "h96WAtOA-Gxx"
      },
      "execution_count": 36,
      "outputs": []
    },
    {
      "cell_type": "code",
      "source": [
        "# Clean and combine textual fields in posts\n",
        "# Ensure 'title' and 'text' are strings with no NaN issues\n",
        "posts_df['title'] = posts_df['title'].fillna('').astype(str).str.strip()\n",
        "posts_df['text'] = posts_df['text'].fillna('').astype(str).str.strip()\n",
        "\n",
        "# Combine 'title' and 'text' into a single 'full_text' column\n",
        "posts_df['full_text'] = posts_df['title'] + posts_df['text'].apply(lambda t: f\". {t}\" if t else '')\n",
        "\n",
        "# Ensure 'text' column is string with no NaN issues in comments_df\n",
        "comments_df['text'] = comments_df['text'].fillna('').astype(str).str.strip()\n",
        "\n",
        "# rename text into full_text\n",
        "comments_df['full_text'] = comments_df['text']\n",
        "\n",
        "\n",
        "# Select and reorder relevant columns\n",
        "base_columns = ['type', 'author', 'subreddit', 'created_date', 'mention_type', 'score',]\n",
        "\n",
        "# Final post and comment DataFrames\n",
        "final_posts_df = posts_df[[*base_columns, 'full_text']].copy()\n",
        "final_comments_df = comments_df[[*base_columns, 'full_text']].copy()\n",
        "\n",
        "\n",
        "# Lista keywords già in lowercase\n",
        "tesla_keywords = [\n",
        "    'model s', 'model 3', 'model x', 'model y',\n",
        "    'cybertruck', 'roadster', 'powerwall', 'solar panel',\n",
        "    'autopilot', 'full self driving',\n",
        "    'gigafactory', 'supercharger', 'tsla', 'neuralink'\n",
        "]\n",
        "\n",
        "# Apply on posts\n",
        "final_posts_df['keyword'] = final_posts_df['full_text'].apply(lambda txt: find_most_frequent_keyword(txt, tesla_keywords))\n",
        "\n",
        "# Apply on comments\n",
        "final_comments_df['keyword'] = final_comments_df['full_text'].apply(lambda txt: find_most_frequent_keyword(txt, tesla_keywords))\n",
        "\n",
        "# Display random samples if debugging is enabled\n",
        "if is_debugging:\n",
        "    print(\"\\nSample of cleaned post data:\")\n",
        "    random_items(final_posts_df)\n",
        "\n",
        "    print(\"\\nSample of cleaned comment data:\")\n",
        "    random_items(final_comments_df)"
      ],
      "metadata": {
        "id": "60T4VnAz-JGm"
      },
      "execution_count": 37,
      "outputs": []
    },
    {
      "cell_type": "markdown",
      "metadata": {
        "id": "tQGAUf4FwHgp"
      },
      "source": [
        "# Sent. analysis"
      ]
    },
    {
      "cell_type": "markdown",
      "metadata": {
        "id": "4FWzUYGlH47Q"
      },
      "source": [
        "## Modello"
      ]
    },
    {
      "cell_type": "code",
      "execution_count": 38,
      "metadata": {
        "id": "MrpYIxsZEI4v",
        "collapsed": true,
        "colab": {
          "base_uri": "https://localhost:8080/",
          "height": 296,
          "referenced_widgets": [
            "5c3716c0d78049cf8b82c320d8882aa7",
            "8cf473b9fa344751b6c109b7f1a061b6",
            "bc2b6d8d78fe47eb9a028477314e5e67",
            "081e657d7fb3407288a6cb53347bf283",
            "68a966eb973245eca27dd6554e38d307",
            "9da56247a34c4b488d0a0f97cb3dab60",
            "591bee16c6c84f5a83ce6e068c2505cb",
            "bdbdcac0d68241e48d8615f288aedbfc",
            "6febe28a79f8428ab70df8eb87d1823b",
            "db01fcdf70314c1a931ba640d6530466",
            "07780eeec9ba4e35917c2fcc11ef8ad1",
            "3529da19ee5549848bb90cbf4be20c85",
            "5faf404fd5bc47bd8ed6c95a519b0bd9",
            "8ce25c2133ba42428774e2afb7b24405",
            "165178d5bc3f4164bc7d42f0ea391b2d",
            "6a89705c7d194fe3bee0b42d847e959b",
            "46f6741bf606456783a1098af393886c",
            "8b3f4189ef22405495b40902e23b67d9",
            "55abd66cdbf84129ade57a67a8992039",
            "ec60b5a7bd1f45e3817f1b8f968afc97",
            "495212a17cd144ef8b7689791f57b075",
            "7941fcad532e4a6386d89ed8a6c22e58",
            "d1220a41b1ae4caea7e27b945957ce73",
            "7f67b0631a3d4b2289ae6bf80476bb42",
            "6ee49b274622454d8941c8c5d19285dc",
            "b28906ca05a542f6be47fa064e7aa824",
            "d91284d974d444be92bf73325f437c00",
            "17fa0cff46c84cf6933b9cbd7f41c070",
            "aa813c21c78a479a893e487163415ab8",
            "687a26eab99442528fdc7b092cc520a1",
            "1889b69667604748aab4f213e7e79631",
            "ba4cd3ff981d4b5186373ecf111b8ef7",
            "93969536b3c04bc3af6fd026995dba21",
            "f4585bf4ca1c424091656e34caf3f1c9",
            "993e9f68f7b146088666ed4b059b3dde",
            "5bced9b281f5487cbe319392af828d6b",
            "5ad2d75cb52a4b1283d220ca41900875",
            "18a5f8962c324d70b1549200c6105b9d",
            "9e3b468e6d1d4adea6f59894214f49d1",
            "f8dab2a542c84e1a92b5b2f7d01c15f0",
            "3f3c4aa7cbd145a58e5d47de3112d278",
            "ecf5ed559a93408f89eb07c587d207ad",
            "00097fa61a944af5b3b0fbd2b5735214",
            "9608701e99b1465587438d6b416900f6",
            "8c9201e79e964fde828a24efb50528c0",
            "c269c6f9884e43d88b56972c5daea3fb",
            "7a664e96ec8740dd883c2743ed047f0d",
            "e8f17166bbdd48f792613d27b996def7",
            "29c43d219a3f469987d150301747ca39",
            "af87f16fae5f415a8bb66f665246f3e7",
            "e8b058c0407d4551b1944ec1c7cc7d85",
            "b8604b3a22cb44e8a29d3539b2a1c42e",
            "c40489e95efa4ce490f77583c95f056e",
            "2b3bfbe9e22846859bc8705f36ca03a4",
            "612278acbe9e4eb68c8082dc14213c72"
          ]
        },
        "outputId": "63d1db3f-e0b9-4e61-b053-9cc1ce2e6a10"
      },
      "outputs": [
        {
          "output_type": "stream",
          "name": "stderr",
          "text": [
            "/usr/local/lib/python3.11/dist-packages/huggingface_hub/utils/_auth.py:94: UserWarning: \n",
            "The secret `HF_TOKEN` does not exist in your Colab secrets.\n",
            "To authenticate with the Hugging Face Hub, create a token in your settings tab (https://huggingface.co/settings/tokens), set it as secret in your Google Colab and restart your session.\n",
            "You will be able to reuse this secret in all of your notebooks.\n",
            "Please note that authentication is recommended but still optional to access public models or datasets.\n",
            "  warnings.warn(\n"
          ]
        },
        {
          "output_type": "display_data",
          "data": {
            "text/plain": [
              "config.json:   0%|          | 0.00/953 [00:00<?, ?B/s]"
            ],
            "application/vnd.jupyter.widget-view+json": {
              "version_major": 2,
              "version_minor": 0,
              "model_id": "5c3716c0d78049cf8b82c320d8882aa7"
            }
          },
          "metadata": {}
        },
        {
          "output_type": "display_data",
          "data": {
            "text/plain": [
              "model.safetensors:   0%|          | 0.00/669M [00:00<?, ?B/s]"
            ],
            "application/vnd.jupyter.widget-view+json": {
              "version_major": 2,
              "version_minor": 0,
              "model_id": "3529da19ee5549848bb90cbf4be20c85"
            }
          },
          "metadata": {}
        },
        {
          "output_type": "display_data",
          "data": {
            "text/plain": [
              "tokenizer_config.json:   0%|          | 0.00/39.0 [00:00<?, ?B/s]"
            ],
            "application/vnd.jupyter.widget-view+json": {
              "version_major": 2,
              "version_minor": 0,
              "model_id": "d1220a41b1ae4caea7e27b945957ce73"
            }
          },
          "metadata": {}
        },
        {
          "output_type": "display_data",
          "data": {
            "text/plain": [
              "vocab.txt:   0%|          | 0.00/872k [00:00<?, ?B/s]"
            ],
            "application/vnd.jupyter.widget-view+json": {
              "version_major": 2,
              "version_minor": 0,
              "model_id": "f4585bf4ca1c424091656e34caf3f1c9"
            }
          },
          "metadata": {}
        },
        {
          "output_type": "display_data",
          "data": {
            "text/plain": [
              "special_tokens_map.json:   0%|          | 0.00/112 [00:00<?, ?B/s]"
            ],
            "application/vnd.jupyter.widget-view+json": {
              "version_major": 2,
              "version_minor": 0,
              "model_id": "8c9201e79e964fde828a24efb50528c0"
            }
          },
          "metadata": {}
        },
        {
          "output_type": "stream",
          "name": "stderr",
          "text": [
            "Device set to use cuda:0\n"
          ]
        }
      ],
      "source": [
        "from transformers import pipeline\n",
        "\n",
        "# Initialize the sentiment analysis pipeline using a multilingual BERT model\n",
        "# This pipeline analyzes text sentiment, outputting ratings (e.g., 1 to 5 stars).\n",
        "# The 'truncation=\"only_first\"' parameter ensures that if input text is too long,\n",
        "# only the first part is truncated to fit the model's max input length.\n",
        "sentiment_analyzer = pipeline(\n",
        "    task=\"sentiment-analysis\",\n",
        "    model=\"nlptown/bert-base-multilingual-uncased-sentiment\",\n",
        "    truncation=\"only_first\"\n",
        ")"
      ]
    },
    {
      "cell_type": "code",
      "execution_count": 39,
      "metadata": {
        "id": "Fp0STKf-Gbco"
      },
      "outputs": [],
      "source": [
        "# Extract texts from posts and comments\n",
        "post_texts = final_posts_df['full_text'].tolist()\n",
        "comment_texts = final_comments_df['full_text'].tolist()\n",
        "\n",
        "# Perform sentiment analysis in batch\n",
        "post_predictions = sentiment_analyzer(post_texts)\n",
        "comment_predictions = sentiment_analyzer(comment_texts)\n",
        "\n",
        "# Extract sentiment labels from model output\n",
        "final_posts_df.loc[:, 'sentiment'] = [res['label'] for res in post_predictions]\n",
        "final_comments_df.loc[:, 'sentiment'] = [res['label'] for res in comment_predictions]"
      ]
    },
    {
      "cell_type": "code",
      "execution_count": 40,
      "metadata": {
        "collapsed": true,
        "id": "RRUM0GwTREXB"
      },
      "outputs": [],
      "source": [
        "if is_debugging:\n",
        "  # Display sample results from posts\n",
        "  print(\"Sample Post Sentiments:\")\n",
        "  # Sample 3 random posts for inspection. random_state ensures reproducibility of the sample.\n",
        "  for _, row in final_posts_df.sample(3, random_state=42).iterrows():\n",
        "      print(f\"Full Text: {row['full_text']}\")\n",
        "      print(f\"Predicted Sentiment: {row['sentiment']}\")\n",
        "      print(\"-\" * 60)\n",
        "\n",
        "  # Display sample results from comments\n",
        "  print(\"\\nSample Comment Sentiments:\")\n",
        "  # Sample 3 random comments for inspection.\n",
        "  for _, row in final_comments_df.sample(3, random_state=42).iterrows():\n",
        "      # Print the full text used for sentiment analysis.\n",
        "      print(f\"Text: {row['full_text']}\") # Corrected column name\n",
        "      print(f\"Predicted Sentiment: {row['sentiment']}\")\n",
        "      print(\"-\" * 60)"
      ]
    },
    {
      "cell_type": "markdown",
      "metadata": {
        "id": "RdzZviVFPxZ9"
      },
      "source": [
        "## Grafici"
      ]
    },
    {
      "cell_type": "code",
      "source": [
        "import seaborn as sns\n",
        "import matplotlib.pyplot as plt\n",
        "import matplotlib as mpl"
      ],
      "metadata": {
        "id": "nYSQsAJvbsiV"
      },
      "execution_count": 41,
      "outputs": []
    },
    {
      "cell_type": "code",
      "source": [
        "def get_period_range(end_date):\n",
        "    \"\"\"Returns the start and end dates of a resampling period given the end date.\"\"\"\n",
        "    try:\n",
        "        # Try to get offset for the resampling period (e.g. 'M', 'W')\n",
        "        offset = pd.tseries.frequencies.to_offset(resample_period)\n",
        "    except ValueError:\n",
        "        # Fallback to 1 month if resample_period is invalid\n",
        "        offset = pd.offsets.MonthEnd(1)\n",
        "    # Calculate start date by subtracting offset (period length) from end_date\n",
        "    start_date = end_date - offset + pd.Timedelta(days=1)\n",
        "    return pd.Timestamp(start_date), pd.Timestamp(end_date)"
      ],
      "metadata": {
        "id": "fvvDW46GJClE"
      },
      "execution_count": 42,
      "outputs": []
    },
    {
      "cell_type": "code",
      "source": [
        "\n",
        "def print_texts(df_period, title, start, end, value=None, delta=False) -> None:\n",
        "    \"\"\"Print texts for a given period, with optional sentiment metrics.\"\"\"\n",
        "    # Format metric string as delta (Δ) or average (avg)\n",
        "    metric = f\"{'Δ = ' + str(round(value, 2)) if delta else 'avg: ' + str(round(value, 2))}\" if value is not None else ''\n",
        "    print(f\"\\n{title_prefix} in period with {title} ({start.date()} to {end.date()}) - {metric}\")\n",
        "    print(\"-\" * 80)\n",
        "\n",
        "    if df_period.empty:\n",
        "        print(\"No content available in this period.\")\n",
        "    else:\n",
        "        # Print each text content in the filtered period\n",
        "        for _, row in df_period.iterrows():\n",
        "            content = row.get(text_column, 'N/A')\n",
        "            print(content)\n",
        "            print(\"-\" * 80)\n",
        "    print(\"=\" * 100)"
      ],
      "metadata": {
        "id": "dDa92kF6JP2o"
      },
      "execution_count": 43,
      "outputs": []
    },
    {
      "cell_type": "code",
      "source": [
        "def show_period(title, date, value, delta=False) -> None:\n",
        "    \"\"\"Helper to extract data for a specific period and print its texts and sentiment.\"\"\"\n",
        "    start, end = get_period_range(date)\n",
        "    # Filter the global DataFrame for rows within the period\n",
        "    df_period = df_copy[(df_copy['created_date'] >= start) & (df_copy['created_date'] <= end)]\n",
        "    # Print filtered texts with sentiment info\n",
        "    print_texts(df_period, title, start, end, value, delta=delta)"
      ],
      "metadata": {
        "id": "wgVNOKFeJRb_"
      },
      "execution_count": 44,
      "outputs": []
    },
    {
      "cell_type": "code",
      "execution_count": 45,
      "metadata": {
        "collapsed": true,
        "id": "TmQXEf2tS1eZ"
      },
      "outputs": [],
      "source": [
        "def text_sentiment_over_time(\n",
        "    df: pd.DataFrame,\n",
        "    title_prefix: str,\n",
        "    text_column: str,\n",
        "    resample_period: str = '2ME'\n",
        ") -> None:\n",
        "    \"\"\"\n",
        "    Analyzes sentiment evolution over time and prints the texts during periods of:\n",
        "    - highest sentiment\n",
        "    - lowest sentiment\n",
        "    - largest sentiment change (delta from previous period)\n",
        "\n",
        "    Parameters:\n",
        "    - df (pd.DataFrame): DataFrame with 'created_date' and 'sentiment_score' columns\n",
        "    - title_prefix (str): Label prefix for output titles (e.g., 'Comments', 'Posts')\n",
        "    - text_column (str): Name of the text column to print\n",
        "    - resample_period (str): Frequency string for resampling (e.g., 'ME', '2ME', 'Q', etc.)\n",
        "    \"\"\"\n",
        "    df_copy = df.copy()\n",
        "    df_copy['created_date'] = pd.to_datetime(df_copy['created_date'])\n",
        "\n",
        "    # Resample sentiment scores by period (mean value)\n",
        "    sentiment_resampled = (\n",
        "        df_copy.set_index('created_date')['sentiment_score']\n",
        "        .resample(resample_period)\n",
        "        .mean()\n",
        "    )\n",
        "\n",
        "    # Highest sentiment\n",
        "    if not sentiment_resampled.empty:\n",
        "        max_date = sentiment_resampled.idxmax()\n",
        "        show_period(\"HIGHEST sentiment\", max_date, sentiment_resampled[max_date])\n",
        "    else:\n",
        "        print(\"\\nNo resampled data to determine highest sentiment period.\")\n",
        "\n",
        "    # Lowest sentiment\n",
        "    if not sentiment_resampled.empty:\n",
        "        min_date = sentiment_resampled.idxmin()\n",
        "        show_period(\"LOWEST sentiment\", min_date, sentiment_resampled[min_date])\n",
        "    else:\n",
        "        print(\"\\nNo resampled data to determine lowest sentiment period.\")\n",
        "\n",
        "    # Largest sentiment change (absolute delta from previous period)\n",
        "    sentiment_diff = sentiment_resampled.diff().abs()\n",
        "    if not sentiment_diff.empty and sentiment_diff.max() > 0:\n",
        "        delta_date = sentiment_diff.idxmax()\n",
        "        show_period(\"LARGEST sentiment change\", delta_date, sentiment_diff[delta_date], delta=True)\n",
        "    else:\n",
        "        print(\"\\nNo sufficient data or change to identify largest sentiment variation.\")"
      ]
    },
    {
      "cell_type": "code",
      "execution_count": 46,
      "metadata": {
        "id": "s2hXszibQHAf",
        "collapsed": true
      },
      "outputs": [],
      "source": [
        "def plot_sentiment_trend(df, title_prefix, resample_period, period_label, save=False) -> None:\n",
        "    \"\"\"\n",
        "    Visualizes the trend of sentiment over time using a smoothed line plot.\n",
        "\n",
        "    Parameters:\n",
        "    - df (pd.DataFrame): Must contain 'created_date' and 'sentiment_score'.\n",
        "    - title_prefix (str): Prefix used in the chart title (e.g., 'Posts', 'Comments').\n",
        "    - resample_period (str): Frequency string for resampling (e.g., 'W', 'ME', '2ME').\n",
        "    - period_label (str): Human-friendly period label (e.g., 'Weekly', 'Monthly').\n",
        "    - save (bool): If True, saves the figure as a PNG file.\n",
        "    \"\"\"\n",
        "    if df.empty:\n",
        "        print(\"DataFrame is empty. Cannot plot sentiment trend.\")\n",
        "        return\n",
        "\n",
        "    df['created_date'] = pd.to_datetime(df['created_date'], errors='coerce')\n",
        "    df = df.dropna(subset=['created_date', 'sentiment_score'])\n",
        "\n",
        "    # Resample sentiment time series\n",
        "    sentiment_ts = (\n",
        "        df.set_index('created_date')['sentiment_score']\n",
        "        .resample(resample_period)\n",
        "        .mean()\n",
        "        .dropna()\n",
        "    )\n",
        "\n",
        "    if sentiment_ts.empty:\n",
        "        print(\"Resampled sentiment data is empty. Cannot generate plot.\")\n",
        "        return\n",
        "\n",
        "    # Compute basic statistics\n",
        "    mean_sentiment = sentiment_ts.mean()\n",
        "    std_sentiment = sentiment_ts.std()\n",
        "    sentiment_diff = sentiment_ts.diff().abs()\n",
        "\n",
        "    # Identify key points\n",
        "    max_date, max_score = sentiment_ts.idxmax(), sentiment_ts.max()\n",
        "    min_date, min_score = sentiment_ts.idxmin(), sentiment_ts.min()\n",
        "    max_change_date, max_change_value = sentiment_diff.idxmax(), sentiment_diff.max()\n",
        "\n",
        "    # Summary (console output)\n",
        "    print(f\"\\nPeak Sentiment:    {max_date.date()} → {max_score:.2f}\")\n",
        "    print(f\"Lowest Sentiment:  {min_date.date()} → {min_score:.2f}\")\n",
        "    print(f\"Largest Change:    {max_change_date.date()} → Δ = {max_change_value:.2f}\")\n",
        "\n",
        "    # Plot setup\n",
        "    sns.set(style=\"whitegrid\")\n",
        "    fig, ax = plt.subplots(figsize=(13, 6))\n",
        "\n",
        "    # Plot line\n",
        "    sns.lineplot(x=sentiment_ts.index, y=sentiment_ts.values,\n",
        "                 color=\"#1f77b4\", linewidth=2.5, label='Avg. Sentiment', ax=ax)\n",
        "\n",
        "    # Annotate key points\n",
        "    ax.axhline(mean_sentiment, color='red', linestyle='--',\n",
        "               label=f\"Mean = {mean_sentiment:.2f} ± {std_sentiment:.2f}\")\n",
        "    ax.plot(max_date, max_score, 'go', markersize=8, label=f\"Peak = {max_score:.2f}\")\n",
        "    ax.plot(min_date, min_score, 'ro', markersize=8, label=f\"Trough = {min_score:.2f}\")\n",
        "\n",
        "    # Formatting\n",
        "    ax.set_ylim(1, 5)\n",
        "    ax.set_title(f\"{title_prefix} – Sentiment Trend ({period_label})\", fontsize=16)\n",
        "    ax.set_xlabel(\"Date\", fontsize=12)\n",
        "    ax.set_ylabel(\"Average Sentiment\", fontsize=12)\n",
        "    ax.tick_params(axis='x', rotation=30)\n",
        "    ax.legend()\n",
        "    ax.grid(True, linestyle='--', linewidth=0.5)\n",
        "\n",
        "    plt.tight_layout()\n",
        "\n",
        "    # Save plot if requested\n",
        "    if save:\n",
        "        filename = f\"{title_prefix.lower().replace(' ', '_')}_sentiment_trend_{period_label.lower()}.png\"\n",
        "        plt.savefig(filename, dpi=300)\n",
        "        print(f\"Plot saved as {filename}\")\n",
        "\n",
        "    plt.show()"
      ]
    },
    {
      "cell_type": "code",
      "source": [
        "def plot_sentiment_by_mention_type(df, title_prefix, period, period_name):\n",
        "    \"\"\"\n",
        "    Plot the evolution of average sentiment scores over time for different mention types.\n",
        "\n",
        "    Shows the first and last sentiment value in the timeline for each mention type.\n",
        "    \"\"\"\n",
        "    df = df.copy()\n",
        "    df['created_date'] = pd.to_datetime(df['created_date'])\n",
        "\n",
        "    color_map = {\n",
        "        'elon': '#03045e',\n",
        "        'tesla': '#00b4d8',\n",
        "        'both': '#1f77b4'\n",
        "    }\n",
        "    linestyles = {\n",
        "        'elon': '-',\n",
        "        'tesla': '-',\n",
        "        'both': ':'\n",
        "    }\n",
        "\n",
        "    plt.figure(figsize=(12, 6))\n",
        "\n",
        "    for mention in ['elon', 'tesla', 'both']:\n",
        "        df_mention = df[df['mention_type'] == mention]\n",
        "        if df_mention.empty:\n",
        "            print(f\"No data for mention type: '{mention}'\")\n",
        "            continue\n",
        "\n",
        "        sentiment_over_time = (\n",
        "            df_mention\n",
        "            .set_index('created_date')['sentiment_score']\n",
        "            .resample(period)\n",
        "            .mean()\n",
        "            .dropna()\n",
        "        )\n",
        "\n",
        "        if sentiment_over_time.empty:\n",
        "            continue\n",
        "\n",
        "        start_date = sentiment_over_time.index[0]\n",
        "        start_value = sentiment_over_time.iloc[0]\n",
        "        end_date = sentiment_over_time.index[-1]\n",
        "        end_value = sentiment_over_time.iloc[-1]\n",
        "\n",
        "        plt.plot(\n",
        "            sentiment_over_time.index,\n",
        "            sentiment_over_time.values,\n",
        "            label=f'{mention.capitalize()}',\n",
        "            color=color_map[mention],\n",
        "            linestyle=linestyles[mention],\n",
        "            linewidth=2.0\n",
        "        )\n",
        "\n",
        "        # Annotate start and end points\n",
        "        plt.scatter([start_date, end_date], [start_value, end_value], color=color_map[mention], s=60, zorder=5)\n",
        "        plt.text(start_date, start_value - 0.2, f'{start_value:.2f}', color=color_map[mention],\n",
        "                 ha='center', fontsize=12)\n",
        "        plt.text(end_date, end_value - 0.2, f'{end_value:.2f}', color=color_map[mention],\n",
        "                 ha='center', fontsize=12)\n",
        "\n",
        "    plt.title(f'{title_prefix} Sentiment Evolution Over Time by Topic ({period_name})')\n",
        "    plt.xlabel('Date')\n",
        "    plt.ylabel('Average Sentiment Score')\n",
        "    plt.ylim(1, 5)\n",
        "    plt.grid(True, linestyle='--', alpha=0.6)\n",
        "    plt.legend(title='Mention Type')\n",
        "    plt.tight_layout()\n",
        "    plt.show()"
      ],
      "metadata": {
        "id": "IuPaOs9cnRK2"
      },
      "execution_count": 47,
      "outputs": []
    },
    {
      "cell_type": "code",
      "execution_count": 48,
      "metadata": {
        "id": "73JD-_RKLcR3"
      },
      "outputs": [],
      "source": [
        "# Define sentiment-to-score mapping\n",
        "sentiment_to_score = {\n",
        "    '1 star': 1,\n",
        "    '2 stars': 2,\n",
        "    '3 stars': 3,\n",
        "    '4 stars': 4,\n",
        "    '5 stars': 5\n",
        "}\n",
        "\n",
        "# Map sentiment labels to numeric scores for posts and comments\n",
        "final_posts_df['sentiment_score'] = final_posts_df['sentiment'].map(sentiment_to_score)\n",
        "final_comments_df['sentiment_score'] = final_comments_df['sentiment'].map(sentiment_to_score)\n",
        "\n",
        "# Save the df\n",
        "if save:\n",
        "  final_posts_df.to_csv('final_posts_df.csv', index=False)\n",
        "  final_comments_df.to_csv('final_comments_df.csv', index=False)"
      ]
    },
    {
      "cell_type": "code",
      "source": [
        "if is_debugging:\n",
        "  plot_sentiment_trend(final_posts_df, 'Posts', 'ME', 'Mothly')"
      ],
      "metadata": {
        "id": "kwsxHcSOY2v4"
      },
      "execution_count": 49,
      "outputs": []
    },
    {
      "cell_type": "code",
      "source": [
        "if is_debugging:\n",
        "  plot_sentiment_trend(final_comments_df, 'Comments', 'ME', 'Mothly')"
      ],
      "metadata": {
        "id": "mlMfjg5v50Yu"
      },
      "execution_count": 50,
      "outputs": []
    },
    {
      "cell_type": "code",
      "execution_count": 51,
      "metadata": {
        "collapsed": true,
        "id": "Q0uJrPzQftF_"
      },
      "outputs": [],
      "source": [
        "if is_debugging:\n",
        "  text_sentiment_over_time(final_posts_df, 'Posts', 'full_text', resample_period='2ME')"
      ]
    },
    {
      "cell_type": "code",
      "source": [
        "if is_debugging:\n",
        "  text_sentiment_over_time(final_comments_df, 'Comments', 'full_text', resample_period='2ME')"
      ],
      "metadata": {
        "id": "x9nrHyH0rbew"
      },
      "execution_count": 52,
      "outputs": []
    },
    {
      "cell_type": "code",
      "source": [
        "combined_df = pd.concat([final_posts_df, final_comments_df], ignore_index=True)"
      ],
      "metadata": {
        "id": "wmhjfc0NZaHc"
      },
      "execution_count": 53,
      "outputs": []
    },
    {
      "cell_type": "code",
      "source": [
        "if is_debugging:\n",
        "  plot_sentiment_trend(combined_df, 'Posts & Comments', 'ME', 'Mothly')"
      ],
      "metadata": {
        "id": "3Uxk5cwrsA1f"
      },
      "execution_count": 54,
      "outputs": []
    },
    {
      "cell_type": "code",
      "source": [
        "if is_debugging:\n",
        "  text_sentiment_over_time(combined_df, 'Posts & Comments', 'full_text', resample_period='2ME')"
      ],
      "metadata": {
        "id": "S6dvLPf-r-t1"
      },
      "execution_count": 55,
      "outputs": []
    },
    {
      "cell_type": "code",
      "source": [
        "# Extract year from 'created_date' for both DataFrames\n",
        "final_posts_df['year'] = pd.to_datetime(final_posts_df['created_date']).dt.year\n",
        "final_comments_df['year'] = pd.to_datetime(final_comments_df['created_date']).dt.year\n",
        "\n",
        "# Compute average sentiment per year\n",
        "sentiment_per_year_posts = (\n",
        "    final_posts_df.groupby('year')['sentiment_score'].mean().reset_index()\n",
        ")\n",
        "sentiment_per_year_comments = (\n",
        "    final_comments_df.groupby('year')['sentiment_score'].mean().reset_index()\n",
        ")\n",
        "\n",
        "# Merge yearly sentiment scores on 'year'\n",
        "sentiment_per_year_combined = pd.merge(\n",
        "    sentiment_per_year_posts,\n",
        "    sentiment_per_year_comments,\n",
        "    on='year',\n",
        "    suffixes=('_posts', '_comments')\n",
        ")\n",
        "\n",
        "# Compute correlation matrix between posts and comments sentiment\n",
        "correlation_matrix = sentiment_per_year_combined[\n",
        "    ['sentiment_score_posts', 'sentiment_score_comments']\n",
        "].corr()\n",
        "\n",
        "# Rename for visual clarity\n",
        "correlation_matrix.index = ['Posts', 'Comments']\n",
        "correlation_matrix.columns = ['Posts', 'Comments']"
      ],
      "metadata": {
        "id": "Cek9pKqITIeO"
      },
      "execution_count": 56,
      "outputs": []
    },
    {
      "cell_type": "code",
      "source": [
        "if is_debugging:\n",
        "  # Plot heatmap of yearly sentiment correlation between posts and comments\n",
        "  plt.figure(figsize=(6, 5))\n",
        "  sns.set_style(\"white\")\n",
        "\n",
        "  sns.heatmap(\n",
        "      correlation_matrix,\n",
        "      annot=True,\n",
        "      cmap=bar_plot,\n",
        "      fmt=\".2f\",\n",
        "      linewidths=0.5,\n",
        "      vmin=0.5, vmax=1,\n",
        "      square=True,\n",
        "      cbar_kws={\"shrink\": 0.8}\n",
        "  )\n",
        "\n",
        "  plt.title(\"Yearly Average Sentiment Correlation\\nPosts vs Comments\", fontsize=12, pad=15)\n",
        "  plt.xticks(rotation=0)\n",
        "  plt.yticks(rotation=0)\n",
        "  plt.tight_layout()\n",
        "  plt.show()"
      ],
      "metadata": {
        "id": "rYkL_iQ-i4Kl"
      },
      "execution_count": 57,
      "outputs": []
    },
    {
      "cell_type": "code",
      "execution_count": 58,
      "metadata": {
        "id": "mrJ3kK4RNqp2"
      },
      "outputs": [],
      "source": [
        "# 'created_date' as datetime and extract the year\n",
        "combined_df['created_date'] = pd.to_datetime(combined_df['created_date'])\n",
        "combined_df['year'] = combined_df['created_date'].dt.year\n",
        "\n",
        "# Group by sentiment score and year, count occurrences\n",
        "heatmap_data = combined_df.groupby(['sentiment_score', 'year']).size().unstack(fill_value=0)\n",
        "\n",
        "# Sort sentiment scores in ascending order\n",
        "heatmap_data = heatmap_data.sort_index()\n",
        "\n",
        "# Normalize each column to get the percentage distribution per year\n",
        "heatmap_normalized = heatmap_data.div(heatmap_data.sum(axis=0), axis=1)\n",
        "\n",
        "if is_debugging:\n",
        "  # Plot heatmap\n",
        "  plt.figure(figsize=(12, 8))\n",
        "  sns.set_style(\"white\")\n",
        "  sns.heatmap(\n",
        "      heatmap_normalized,\n",
        "      annot=True,\n",
        "      fmt='.2%',\n",
        "      cmap=bar_plot,\n",
        "      linewidths=0.5,\n",
        "      cbar_kws={\"shrink\": 0.8}\n",
        "  )\n",
        "  plt.title('Percentage Distribution of Sentiment by Year (Posts + Comments)', fontsize=13, pad=15)\n",
        "  plt.ylabel('Sentiment')\n",
        "  plt.xlabel('Year')\n",
        "  plt.yticks(rotation=0)\n",
        "  plt.xticks(rotation=0)\n",
        "  plt.gca().invert_yaxis()\n",
        "  plt.tight_layout()\n",
        "  plt.show()"
      ]
    },
    {
      "cell_type": "code",
      "source": [
        "# Calculate average sentiment score per subreddit and sort ascending\n",
        "subreddit_sentiment = combined_df.groupby('subreddit')['sentiment_score'].mean().sort_values()\n",
        "\n",
        "# Convert Series to DataFrame and rename columns appropriately\n",
        "subreddit_sentiment_df = subreddit_sentiment.reset_index()\n",
        "subreddit_sentiment_df.columns = ['subreddit', 'sentiment_score']\n",
        "\n",
        "if is_debugging:\n",
        "  # Generate the bar plot with the provided parameters\n",
        "  create_bar_plot(\n",
        "      dataframe=subreddit_sentiment_df,\n",
        "      title='Average Sentiment Score per Subreddit',\n",
        "      xlabel='Subreddit',\n",
        "      ylabel='Average Sentiment Score',\n",
        "      x='subreddit',\n",
        "      y='sentiment_score',\n",
        "      hue='subreddit',\n",
        "      save=save,\n",
        "      range=True\n",
        "  )"
      ],
      "metadata": {
        "id": "Efs4JNijnFcT"
      },
      "execution_count": 59,
      "outputs": []
    },
    {
      "cell_type": "code",
      "source": [
        "# Ensure 'created_date' column is datetime type and extract the year as numeric\n",
        "combined_df['created_date'] = pd.to_datetime(combined_df['created_date'])\n",
        "combined_df['year'] = combined_df['created_date'].dt.year\n",
        "combined_df['year'] = pd.to_numeric(combined_df['year'], errors='coerce')\n",
        "\n",
        "# Count number of comments per subreddit and year\n",
        "comment_counts = (\n",
        "    combined_df\n",
        "    .groupby(['subreddit', 'year'])\n",
        "    .size()\n",
        "    .reset_index(name='comment_count')\n",
        ")\n",
        "\n",
        "# Count total number of comments per year across all subreddits\n",
        "total_counts_per_year = (\n",
        "    combined_df\n",
        "    .groupby('year')\n",
        "    .size()\n",
        "    .reset_index(name='total_comments')\n",
        ")\n",
        "\n",
        "# Merge total annual comment counts with subreddit-year comment counts\n",
        "comment_counts = comment_counts.merge(total_counts_per_year, on='year')\n",
        "\n",
        "# Calculate percentage of comments contributed by each subreddit per year\n",
        "comment_counts['comment_percentage'] = (\n",
        "    comment_counts['comment_count'] / comment_counts['total_comments']\n",
        ") * 100\n",
        "\n",
        "# Compute average sentiment score per subreddit per year\n",
        "sentiment_means = (\n",
        "    combined_df\n",
        "    .groupby(['subreddit', 'year'])['sentiment_score']\n",
        "    .mean()\n",
        "    .reset_index()\n",
        "    .rename(columns={'sentiment_score': 'avg_annual_sentiment'})\n",
        ")\n",
        "\n",
        "# Merge average sentiment with comment percentages on subreddit and year\n",
        "final_result = sentiment_means.merge(\n",
        "    comment_counts[['subreddit', 'year', 'comment_percentage']],\n",
        "    on=['subreddit', 'year']\n",
        ")"
      ],
      "metadata": {
        "id": "P2I7dId3Bjdq"
      },
      "execution_count": 60,
      "outputs": []
    },
    {
      "cell_type": "code",
      "source": [
        "if is_debugging:\n",
        "  # Create figure and axes\n",
        "  fig, ax = plt.subplots(figsize=(14, 8))\n",
        "\n",
        "  # Bubble chart using Seaborn scatterplot\n",
        "  scatter = sns.scatterplot(\n",
        "      data=final_result,\n",
        "      x='year',\n",
        "      y='subreddit',\n",
        "      size='comment_percentage',\n",
        "      hue='avg_annual_sentiment',\n",
        "      sizes=(50, 1200),\n",
        "      palette=sentiment_palette,\n",
        "      alpha=0.7,\n",
        "      edgecolor='black',\n",
        "      ax=ax\n",
        "  )\n",
        "\n",
        "  # Manual normalization for the colorbar\n",
        "  norm = mpl.colors.Normalize(vmin=1, vmax=5)\n",
        "  sm = plt.cm.ScalarMappable(cmap=sentiment_palette, norm=norm)\n",
        "  sm.set_array([])  # Required for colorbar creation\n",
        "\n",
        "  # Add colorbar linked to the scatter plot on the specified axes\n",
        "  cbar = plt.colorbar(sm, ax=ax)\n",
        "  cbar.set_label(\"Average Sentiment\")\n",
        "\n",
        "  # Aesthetics and labels\n",
        "  ax.set_title(\"Bubble Chart: Average Sentiment by Subreddit and Year\", fontsize=14)\n",
        "  ax.set_xlabel(\"Year\")\n",
        "  ax.set_ylabel(\"Subreddit\")\n",
        "  ax.invert_yaxis()\n",
        "  ax.legend_.remove()\n",
        "  plt.tight_layout()\n",
        "  plt.show()"
      ],
      "metadata": {
        "id": "9Fbicpac_432"
      },
      "execution_count": 61,
      "outputs": []
    },
    {
      "cell_type": "code",
      "source": [
        "# Calculate average sentiment score grouped by mention type and sort the values\n",
        "mention_sentiment = combined_df.groupby('mention_type')['sentiment_score'].mean().sort_values()\n",
        "\n",
        "# Convert the Series to a DataFrame and rename columns for clarity\n",
        "mention_sentiment_df = mention_sentiment.reset_index()\n",
        "mention_sentiment_df.columns = ['mention_type', 'sentiment_score']\n",
        "\n",
        "if is_debugging:\n",
        "  # Generate a bar plot showing average sentiment score per mention type\n",
        "  create_bar_plot(\n",
        "      dataframe=mention_sentiment_df,\n",
        "      title='Average Sentiment Score by Topic',\n",
        "      xlabel='Topic',\n",
        "      ylabel='Average Sentiment Score',\n",
        "      x='mention_type',\n",
        "      y='sentiment_score',\n",
        "      hue='mention_type',\n",
        "      save=True,\n",
        "      range=True\n",
        "  )"
      ],
      "metadata": {
        "id": "2EspppMXyO_B"
      },
      "execution_count": 62,
      "outputs": []
    },
    {
      "cell_type": "code",
      "source": [
        "plot_sentiment_by_mention_type(\n",
        "    df=combined_df,\n",
        "    title_prefix='Reddit',\n",
        "    period='6ME',\n",
        "    period_name='Semiannual'\n",
        ")"
      ],
      "metadata": {
        "id": "PT4y8Ga-B2ZV",
        "colab": {
          "base_uri": "https://localhost:8080/",
          "height": 607
        },
        "outputId": "f0c45153-3c0b-4aa7-8d9a-f3e58c2e4e15"
      },
      "execution_count": 63,
      "outputs": [
        {
          "output_type": "display_data",
          "data": {
            "text/plain": [
              "<Figure size 1200x600 with 1 Axes>"
            ],
            "image/png": "[encoded data removed]"
          },
          "metadata": {}
        }
      ]
    },
    {
      "cell_type": "code",
      "source": [
        "# Filter and resample sentiment scores for each mention type (semiannual)\n",
        "tesla_sentiment = (\n",
        "    combined_df[combined_df['mention_type'] == 'tesla']\n",
        "    .set_index('created_date')['sentiment_score']\n",
        "    .resample('6ME')\n",
        "    .mean()\n",
        ")\n",
        "\n",
        "elon_sentiment = (\n",
        "    combined_df[combined_df['mention_type'] == 'elon']\n",
        "    .set_index('created_date')['sentiment_score']\n",
        "    .resample('6ME')\n",
        "    .mean()\n",
        ")\n",
        "\n",
        "# Combine both series with aligned dates (drop periods where one is missing)\n",
        "combined = pd.concat([tesla_sentiment, elon_sentiment], axis=1, keys=['tesla', 'elon']).dropna()\n",
        "\n",
        "# Compute Pearson correlation coefficient\n",
        "correlation = combined['tesla'].corr(combined['elon'])\n",
        "\n",
        "print(f\"\\nCorrelation between Tesla and Elon sentiment (semiannual): {correlation:.2f}\")"
      ],
      "metadata": {
        "id": "5q8lme6Rp6K1",
        "colab": {
          "base_uri": "https://localhost:8080/"
        },
        "outputId": "83d0d9af-101c-4ef6-d08c-8bce250e7af7"
      },
      "execution_count": 64,
      "outputs": [
        {
          "output_type": "stream",
          "name": "stdout",
          "text": [
            "\n",
            "Correlation between Tesla and Elon sentiment (semiannual): 0.72\n"
          ]
        }
      ]
    },
    {
      "cell_type": "code",
      "source": [
        "# Remove rows without 'keyword' (filtering for Tesla keywords assumed)\n",
        "df_kw = combined_df.dropna(subset=['keyword']).copy()\n",
        "\n",
        "# Ensure 'year' column is numeric and drop rows with invalid years\n",
        "df_kw['year'] = pd.to_numeric(df_kw['year'], errors='coerce')\n",
        "df_kw = df_kw.dropna(subset=['year'])\n",
        "\n",
        "# Count comments per keyword and year\n",
        "comment_counts = (\n",
        "    df_kw\n",
        "    .groupby(['keyword', 'year'])\n",
        "    .size()\n",
        "    .reset_index(name='comment_count')\n",
        ")\n",
        "\n",
        "# Count total comments per year\n",
        "total_counts_per_year = (\n",
        "    df_kw\n",
        "    .groupby('year')\n",
        "    .size()\n",
        "    .reset_index(name='total_comments')\n",
        ")\n",
        "\n",
        "# Merge to associate total annual comments with each keyword-year group\n",
        "comment_counts = comment_counts.merge(total_counts_per_year, on='year')\n",
        "\n",
        "# Calculate comment percentage per keyword/year\n",
        "comment_counts['comment_percentage'] = (\n",
        "    comment_counts['comment_count'] / comment_counts['total_comments']\n",
        ") * 100\n",
        "\n",
        "# Calculate average sentiment per keyword/year\n",
        "sentiment_means = (\n",
        "    df_kw\n",
        "    .groupby(['keyword', 'year'])['sentiment_score']\n",
        "    .mean()\n",
        "    .reset_index()\n",
        "    .rename(columns={'sentiment_score': 'media_sentiment_annuale'})\n",
        ")\n",
        "\n",
        "# Final merge of sentiment means and comment percentages\n",
        "risultato_finale = sentiment_means.merge(\n",
        "    comment_counts[['keyword', 'year', 'comment_percentage']],\n",
        "    on=['keyword', 'year']\n",
        ")"
      ],
      "metadata": {
        "id": "mwy3QQQyC1PX"
      },
      "execution_count": 65,
      "outputs": []
    },
    {
      "cell_type": "code",
      "source": [
        "# Copy dataframe to avoid modifying original\n",
        "scatter_data = risultato_finale.copy()\n",
        "\n",
        "# Normalize sizes for seaborn scatterplot (scale between min_size and max_size)\n",
        "min_size, max_size = 50, 1200\n",
        "sizes = scatter_data['comment_percentage']\n",
        "sizes_norm = (sizes - sizes.min()) / (sizes.max() - sizes.min())\n",
        "scatter_data['size_norm'] = sizes_norm * (max_size - min_size) + min_size\n",
        "\n",
        "# Sort dataframe by comment_percentage ascending (smallest at top)\n",
        "scatter_data = scatter_data.sort_values(by='comment_percentage', ascending=True)\n",
        "\n",
        "# Set 'keyword' as ordered categorical according to sorted order\n",
        "scatter_data['keyword'] = pd.Categorical(scatter_data['keyword'],\n",
        "                                         categories=scatter_data['keyword'].unique(),\n",
        "                                         ordered=True)\n",
        "\n",
        "if is_debugging:\n",
        "  # Create figure and axes\n",
        "  fig, ax = plt.subplots(figsize=(14, 9))\n",
        "\n",
        "  # Seaborn scatterplot\n",
        "  scatter = sns.scatterplot(\n",
        "      data=scatter_data,\n",
        "      x='year',\n",
        "      y='keyword',\n",
        "      size='size_norm',\n",
        "      hue='media_sentiment_annuale',\n",
        "      palette=sentiment_palette,\n",
        "      sizes=(min_size, max_size),\n",
        "      alpha=0.7,\n",
        "      edgecolor='black',\n",
        "      ax=ax,\n",
        "      legend=False\n",
        "  )\n",
        "\n",
        "  # Manual normalization and colorbar mapping\n",
        "  norm = mpl.colors.Normalize(vmin=1, vmax=5)\n",
        "  sm = plt.cm.ScalarMappable(cmap=sentiment_palette, norm=norm)\n",
        "  sm.set_array([])\n",
        "\n",
        "  # Attach colorbar to the axes\n",
        "  cbar = plt.colorbar(sm, ax=ax)\n",
        "  cbar.set_label('Average Sentiment (1-5)')\n",
        "\n",
        "  # Plot aesthetics\n",
        "  ax.set_title(\"Bubble Chart: Tesla Keyword Sentiment by Year (Seaborn)\", fontsize=14)\n",
        "  ax.set_xlabel(\"Year\")\n",
        "  ax.set_ylabel(\"Keyword\")\n",
        "  ax.invert_yaxis()\n",
        "  ax.grid(True, linestyle='--', alpha=0.5)\n",
        "  plt.tight_layout()\n",
        "  plt.show()"
      ],
      "metadata": {
        "id": "kZOD60eTxfII"
      },
      "execution_count": 66,
      "outputs": []
    },
    {
      "cell_type": "code",
      "source": [
        "# Filter combined DataFrame for specific authors\n",
        "authors_to_plot = ['chrisdh79', 'twinbee', 'cookingboy']\n",
        "df_authors = combined_df[combined_df['author'].isin(authors_to_plot)].copy()\n",
        "\n",
        "# Color mapping for authors\n",
        "color_map = {\n",
        "    'chrisdh79': '#03045e',\n",
        "    'twinbee': '#00b4d8',\n",
        "    'cookingboy': '#1f77b4'\n",
        "}\n",
        "\n",
        "# Ensure 'created_date' is datetime and extract 'year'\n",
        "df_authors['created_date'] = pd.to_datetime(df_authors['created_date'])\n",
        "df_authors['year'] = df_authors['created_date'].dt.year\n",
        "\n",
        "# Group by author and year, calculate average sentiment\n",
        "sentiment_by_author_year = (\n",
        "    df_authors\n",
        "    .groupby(['author', 'year'])['sentiment_score']\n",
        "    .mean()\n",
        "    .reset_index()\n",
        ")\n",
        "\n",
        "if is_debugging:\n",
        "  # Plot line chart for each author\n",
        "  plt.figure(figsize=(12, 7))\n",
        "\n",
        "  for author in authors_to_plot:\n",
        "      data = sentiment_by_author_year[sentiment_by_author_year['author'] == author]\n",
        "      plt.plot(\n",
        "          data['year'],\n",
        "          data['sentiment_score'],\n",
        "          label=author,\n",
        "          color=color_map[author],\n",
        "          marker='o',\n",
        "          linewidth=2.0\n",
        "      )\n",
        "\n",
        "  plt.title('Sentiment Evolution Over Time by Authors')\n",
        "  plt.xlabel('Year')\n",
        "  plt.ylabel('Average Sentiment')\n",
        "  plt.ylim(1, 5)\n",
        "  plt.grid(True, linestyle='--', alpha=0.6)\n",
        "  plt.legend(title='Author')\n",
        "  plt.tight_layout()\n",
        "  plt.show()"
      ],
      "metadata": {
        "id": "0XPnXiPOL49L"
      },
      "execution_count": 67,
      "outputs": []
    },
    {
      "cell_type": "markdown",
      "source": [
        "## Explainability"
      ],
      "metadata": {
        "id": "xuTCivATrvrL"
      }
    },
    {
      "cell_type": "code",
      "source": [
        "from transformers import AutoModelForSequenceClassification, AutoTokenizer\n",
        "from transformers_interpret import MultiLabelClassificationExplainer"
      ],
      "metadata": {
        "id": "MXgwkcFEnsUV"
      },
      "execution_count": 68,
      "outputs": []
    },
    {
      "cell_type": "code",
      "source": [
        "# Load the tokenizer optimized for fast tokenization from the pretrained multilingual BERT sentiment model\n",
        "tokenizer = AutoTokenizer.from_pretrained(\n",
        "    \"nlptown/bert-base-multilingual-uncased-sentiment\",\n",
        "    use_fast=True\n",
        ")\n",
        "\n",
        "# Load the pretrained BERT model fine-tuned for sequence classification (sentiment analysis)\n",
        "model = AutoModelForSequenceClassification.from_pretrained(\n",
        "    \"nlptown/bert-base-multilingual-uncased-sentiment\"\n",
        ")\n",
        "\n",
        "explainer = MultiLabelClassificationExplainer( model, tokenizer)"
      ],
      "metadata": {
        "id": "pxOJvMG3rnkf"
      },
      "execution_count": 69,
      "outputs": []
    },
    {
      "cell_type": "code",
      "source": [
        "# Filter rows where 'testo_completo' has fewer than 20 words\n",
        "df_filtrato = combined_df[combined_df['full_text'].str.split().str.len() < 20]\n",
        "\n",
        "# Sample 3 random rows\n",
        "riga_casuale = df_filtrato.sample(n=1)\n",
        "riga_casuale2 = df_filtrato.sample(n=1)\n",
        "riga_casuale3 = df_filtrato.sample(n=1)\n",
        "\n",
        "# Print text + sentiment for each sampled row, ensuring conversion to string\n",
        "print(\n",
        "    str(riga_casuale['full_text'].values[0]) + ' ' + str(riga_casuale['sentiment'].values[0]) + '\\n' +\n",
        "    str(riga_casuale2['full_text'].values[0]) + ' ' + str(riga_casuale2['sentiment'].values[0]) + '\\n' +\n",
        "    str(riga_casuale3['full_text'].values[0]) + ' ' + str(riga_casuale3['sentiment'].values[0])\n",
        ")"
      ],
      "metadata": {
        "id": "3fxYJmSztLSQ",
        "colab": {
          "base_uri": "https://localhost:8080/"
        },
        "outputId": "9e4eb93e-358e-4718-cbda-dfce1913dacf"
      },
      "execution_count": 70,
      "outputs": [
        {
          "output_type": "stream",
          "name": "stdout",
          "text": [
            "New Tesla Autopilot Attention Study: Interesting, Not Surprising 3 stars\n",
            "Billionaires not paying taxes means poor and middle class Americans have to pay more in taxes.  Boycott Tesla. 1 star\n",
            "Can you blame people for looking at that page and thinking the car can drive itself? 1 star\n"
          ]
        }
      ]
    },
    {
      "cell_type": "code",
      "source": [
        "word_attributions = explainer(text=riga_casuale['full_text'].values[0])\n",
        "_ = explainer.visualize()"
      ],
      "metadata": {
        "id": "OAhOBv9qN0tG",
        "colab": {
          "base_uri": "https://localhost:8080/",
          "height": 218
        },
        "outputId": "1c783e9e-da26-45d6-f096-bcef1c8603a9"
      },
      "execution_count": 71,
      "outputs": [
        {
          "output_type": "display_data",
          "data": {
            "text/plain": [
              "<IPython.core.display.HTML object>"
            ],
            "text/html": [
              "<table width: 100%><div style=\"border-top: 1px solid; margin-top: 5px;             padding-top: 5px; display: inline-block\"><b>Legend: </b><span style=\"display: inline-block; width: 10px; height: 10px;                 border: 1px solid; background-color:                 hsl(0, 75%, 60%)\"></span> Negative  <span style=\"display: inline-block; width: 10px; height: 10px;                 border: 1px solid; background-color:                 hsl(0, 75%, 100%)\"></span> Neutral  <span style=\"display: inline-block; width: 10px; height: 10px;                 border: 1px solid; background-color:                 hsl(120, 75%, 50%)\"></span> Positive  </div><tr><th>True Label</th><th>Predicted Label</th><th>Attribution Label</th><th>Attribution Score</th><th>Word Importance</th><tr><td><text style=\"padding-right:2em\"><b>n/a</b></text></td><td><text style=\"padding-right:2em\"><b> (0.15)</b></text></td><td><text style=\"padding-right:2em\"><b>1 star</b></text></td><td><text style=\"padding-right:2em\"><b>-0.90</b></text></td><td><mark style=\"background-color: hsl(0, 75%, 100%); opacity:1.0;                     line-height:1.75\"><font color=\"black\"> [CLS]                    </font></mark><mark style=\"background-color: hsl(120, 75%, 96%); opacity:1.0;                     line-height:1.75\"><font color=\"black\"> new                    </font></mark><mark style=\"background-color: hsl(120, 75%, 98%); opacity:1.0;                     line-height:1.75\"><font color=\"black\"> tesla                    </font></mark><mark style=\"background-color: hsl(120, 75%, 95%); opacity:1.0;                     line-height:1.75\"><font color=\"black\"> auto                    </font></mark><mark style=\"background-color: hsl(120, 75%, 100%); opacity:1.0;                     line-height:1.75\"><font color=\"black\"> ##pil                    </font></mark><mark style=\"background-color: hsl(120, 75%, 97%); opacity:1.0;                     line-height:1.75\"><font color=\"black\"> ##ot                    </font></mark><mark style=\"background-color: hsl(120, 75%, 97%); opacity:1.0;                     line-height:1.75\"><font color=\"black\"> attention                    </font></mark><mark style=\"background-color: hsl(0, 75%, 92%); opacity:1.0;                     line-height:1.75\"><font color=\"black\"> study                    </font></mark><mark style=\"background-color: hsl(120, 75%, 95%); opacity:1.0;                     line-height:1.75\"><font color=\"black\"> :                    </font></mark><mark style=\"background-color: hsl(0, 75%, 67%); opacity:1.0;                     line-height:1.75\"><font color=\"black\"> interesting                    </font></mark><mark style=\"background-color: hsl(0, 75%, 87%); opacity:1.0;                     line-height:1.75\"><font color=\"black\"> ,                    </font></mark><mark style=\"background-color: hsl(0, 75%, 93%); opacity:1.0;                     line-height:1.75\"><font color=\"black\"> not                    </font></mark><mark style=\"background-color: hsl(0, 75%, 98%); opacity:1.0;                     line-height:1.75\"><font color=\"black\"> sur                    </font></mark><mark style=\"background-color: hsl(120, 75%, 87%); opacity:1.0;                     line-height:1.75\"><font color=\"black\"> ##pris                    </font></mark><mark style=\"background-color: hsl(0, 75%, 98%); opacity:1.0;                     line-height:1.75\"><font color=\"black\"> ##ing                    </font></mark><mark style=\"background-color: hsl(0, 75%, 100%); opacity:1.0;                     line-height:1.75\"><font color=\"black\"> [SEP]                    </font></mark></td><tr><tr><td><text style=\"padding-right:2em\"><b>n/a</b></text></td><td><text style=\"padding-right:2em\"><b> (0.46)</b></text></td><td><text style=\"padding-right:2em\"><b>2 stars</b></text></td><td><text style=\"padding-right:2em\"><b>-0.22</b></text></td><td><mark style=\"background-color: hsl(0, 75%, 100%); opacity:1.0;                     line-height:1.75\"><font color=\"black\"> [CLS]                    </font></mark><mark style=\"background-color: hsl(0, 75%, 98%); opacity:1.0;                     line-height:1.75\"><font color=\"black\"> new                    </font></mark><mark style=\"background-color: hsl(0, 75%, 99%); opacity:1.0;                     line-height:1.75\"><font color=\"black\"> tesla                    </font></mark><mark style=\"background-color: hsl(0, 75%, 100%); opacity:1.0;                     line-height:1.75\"><font color=\"black\"> auto                    </font></mark><mark style=\"background-color: hsl(0, 75%, 98%); opacity:1.0;                     line-height:1.75\"><font color=\"black\"> ##pil                    </font></mark><mark style=\"background-color: hsl(0, 75%, 100%); opacity:1.0;                     line-height:1.75\"><font color=\"black\"> ##ot                    </font></mark><mark style=\"background-color: hsl(120, 75%, 98%); opacity:1.0;                     line-height:1.75\"><font color=\"black\"> attention                    </font></mark><mark style=\"background-color: hsl(0, 75%, 96%); opacity:1.0;                     line-height:1.75\"><font color=\"black\"> study                    </font></mark><mark style=\"background-color: hsl(120, 75%, 94%); opacity:1.0;                     line-height:1.75\"><font color=\"black\"> :                    </font></mark><mark style=\"background-color: hsl(0, 75%, 86%); opacity:1.0;                     line-height:1.75\"><font color=\"black\"> interesting                    </font></mark><mark style=\"background-color: hsl(0, 75%, 90%); opacity:1.0;                     line-height:1.75\"><font color=\"black\"> ,                    </font></mark><mark style=\"background-color: hsl(0, 75%, 89%); opacity:1.0;                     line-height:1.75\"><font color=\"black\"> not                    </font></mark><mark style=\"background-color: hsl(120, 75%, 82%); opacity:1.0;                     line-height:1.75\"><font color=\"black\"> sur                    </font></mark><mark style=\"background-color: hsl(120, 75%, 66%); opacity:1.0;                     line-height:1.75\"><font color=\"black\"> ##pris                    </font></mark><mark style=\"background-color: hsl(0, 75%, 91%); opacity:1.0;                     line-height:1.75\"><font color=\"black\"> ##ing                    </font></mark><mark style=\"background-color: hsl(0, 75%, 100%); opacity:1.0;                     line-height:1.75\"><font color=\"black\"> [SEP]                    </font></mark></td><tr><tr><td><text style=\"padding-right:2em\"><b>n/a</b></text></td><td><text style=\"padding-right:2em\"><b> (0.83)</b></text></td><td><text style=\"padding-right:2em\"><b>3 stars</b></text></td><td><text style=\"padding-right:2em\"><b>1.72</b></text></td><td><mark style=\"background-color: hsl(0, 75%, 100%); opacity:1.0;                     line-height:1.75\"><font color=\"black\"> [CLS]                    </font></mark><mark style=\"background-color: hsl(0, 75%, 94%); opacity:1.0;                     line-height:1.75\"><font color=\"black\"> new                    </font></mark><mark style=\"background-color: hsl(0, 75%, 99%); opacity:1.0;                     line-height:1.75\"><font color=\"black\"> tesla                    </font></mark><mark style=\"background-color: hsl(0, 75%, 99%); opacity:1.0;                     line-height:1.75\"><font color=\"black\"> auto                    </font></mark><mark style=\"background-color: hsl(0, 75%, 99%); opacity:1.0;                     line-height:1.75\"><font color=\"black\"> ##pil                    </font></mark><mark style=\"background-color: hsl(0, 75%, 98%); opacity:1.0;                     line-height:1.75\"><font color=\"black\"> ##ot                    </font></mark><mark style=\"background-color: hsl(0, 75%, 99%); opacity:1.0;                     line-height:1.75\"><font color=\"black\"> attention                    </font></mark><mark style=\"background-color: hsl(120, 75%, 93%); opacity:1.0;                     line-height:1.75\"><font color=\"black\"> study                    </font></mark><mark style=\"background-color: hsl(120, 75%, 92%); opacity:1.0;                     line-height:1.75\"><font color=\"black\"> :                    </font></mark><mark style=\"background-color: hsl(120, 75%, 73%); opacity:1.0;                     line-height:1.75\"><font color=\"black\"> interesting                    </font></mark><mark style=\"background-color: hsl(120, 75%, 100%); opacity:1.0;                     line-height:1.75\"><font color=\"black\"> ,                    </font></mark><mark style=\"background-color: hsl(120, 75%, 78%); opacity:1.0;                     line-height:1.75\"><font color=\"black\"> not                    </font></mark><mark style=\"background-color: hsl(120, 75%, 77%); opacity:1.0;                     line-height:1.75\"><font color=\"black\"> sur                    </font></mark><mark style=\"background-color: hsl(120, 75%, 80%); opacity:1.0;                     line-height:1.75\"><font color=\"black\"> ##pris                    </font></mark><mark style=\"background-color: hsl(0, 75%, 95%); opacity:1.0;                     line-height:1.75\"><font color=\"black\"> ##ing                    </font></mark><mark style=\"background-color: hsl(0, 75%, 100%); opacity:1.0;                     line-height:1.75\"><font color=\"black\"> [SEP]                    </font></mark></td><tr><tr><td><text style=\"padding-right:2em\"><b>n/a</b></text></td><td><text style=\"padding-right:2em\"><b> (0.79)</b></text></td><td><text style=\"padding-right:2em\"><b>4 stars</b></text></td><td><text style=\"padding-right:2em\"><b>1.07</b></text></td><td><mark style=\"background-color: hsl(0, 75%, 100%); opacity:1.0;                     line-height:1.75\"><font color=\"black\"> [CLS]                    </font></mark><mark style=\"background-color: hsl(0, 75%, 99%); opacity:1.0;                     line-height:1.75\"><font color=\"black\"> new                    </font></mark><mark style=\"background-color: hsl(120, 75%, 100%); opacity:1.0;                     line-height:1.75\"><font color=\"black\"> tesla                    </font></mark><mark style=\"background-color: hsl(0, 75%, 97%); opacity:1.0;                     line-height:1.75\"><font color=\"black\"> auto                    </font></mark><mark style=\"background-color: hsl(120, 75%, 100%); opacity:1.0;                     line-height:1.75\"><font color=\"black\"> ##pil                    </font></mark><mark style=\"background-color: hsl(0, 75%, 99%); opacity:1.0;                     line-height:1.75\"><font color=\"black\"> ##ot                    </font></mark><mark style=\"background-color: hsl(0, 75%, 99%); opacity:1.0;                     line-height:1.75\"><font color=\"black\"> attention                    </font></mark><mark style=\"background-color: hsl(120, 75%, 88%); opacity:1.0;                     line-height:1.75\"><font color=\"black\"> study                    </font></mark><mark style=\"background-color: hsl(0, 75%, 96%); opacity:1.0;                     line-height:1.75\"><font color=\"black\"> :                    </font></mark><mark style=\"background-color: hsl(120, 75%, 59%); opacity:1.0;                     line-height:1.75\"><font color=\"black\"> interesting                    </font></mark><mark style=\"background-color: hsl(120, 75%, 86%); opacity:1.0;                     line-height:1.75\"><font color=\"black\"> ,                    </font></mark><mark style=\"background-color: hsl(120, 75%, 89%); opacity:1.0;                     line-height:1.75\"><font color=\"black\"> not                    </font></mark><mark style=\"background-color: hsl(0, 75%, 100%); opacity:1.0;                     line-height:1.75\"><font color=\"black\"> sur                    </font></mark><mark style=\"background-color: hsl(0, 75%, 89%); opacity:1.0;                     line-height:1.75\"><font color=\"black\"> ##pris                    </font></mark><mark style=\"background-color: hsl(120, 75%, 97%); opacity:1.0;                     line-height:1.75\"><font color=\"black\"> ##ing                    </font></mark><mark style=\"background-color: hsl(0, 75%, 100%); opacity:1.0;                     line-height:1.75\"><font color=\"black\"> [SEP]                    </font></mark></td><tr><tr><td><text style=\"padding-right:2em\"><b>n/a</b></text></td><td><text style=\"padding-right:2em\"><b> (0.31)</b></text></td><td><text style=\"padding-right:2em\"><b>5 stars</b></text></td><td><text style=\"padding-right:2em\"><b>-0.55</b></text></td><td><mark style=\"background-color: hsl(0, 75%, 100%); opacity:1.0;                     line-height:1.75\"><font color=\"black\"> [CLS]                    </font></mark><mark style=\"background-color: hsl(120, 75%, 99%); opacity:1.0;                     line-height:1.75\"><font color=\"black\"> new                    </font></mark><mark style=\"background-color: hsl(0, 75%, 100%); opacity:1.0;                     line-height:1.75\"><font color=\"black\"> tesla                    </font></mark><mark style=\"background-color: hsl(0, 75%, 100%); opacity:1.0;                     line-height:1.75\"><font color=\"black\"> auto                    </font></mark><mark style=\"background-color: hsl(120, 75%, 98%); opacity:1.0;                     line-height:1.75\"><font color=\"black\"> ##pil                    </font></mark><mark style=\"background-color: hsl(120, 75%, 99%); opacity:1.0;                     line-height:1.75\"><font color=\"black\"> ##ot                    </font></mark><mark style=\"background-color: hsl(0, 75%, 98%); opacity:1.0;                     line-height:1.75\"><font color=\"black\"> attention                    </font></mark><mark style=\"background-color: hsl(120, 75%, 98%); opacity:1.0;                     line-height:1.75\"><font color=\"black\"> study                    </font></mark><mark style=\"background-color: hsl(0, 75%, 95%); opacity:1.0;                     line-height:1.75\"><font color=\"black\"> :                    </font></mark><mark style=\"background-color: hsl(120, 75%, 98%); opacity:1.0;                     line-height:1.75\"><font color=\"black\"> interesting                    </font></mark><mark style=\"background-color: hsl(120, 75%, 86%); opacity:1.0;                     line-height:1.75\"><font color=\"black\"> ,                    </font></mark><mark style=\"background-color: hsl(120, 75%, 91%); opacity:1.0;                     line-height:1.75\"><font color=\"black\"> not                    </font></mark><mark style=\"background-color: hsl(0, 75%, 82%); opacity:1.0;                     line-height:1.75\"><font color=\"black\"> sur                    </font></mark><mark style=\"background-color: hsl(0, 75%, 70%); opacity:1.0;                     line-height:1.75\"><font color=\"black\"> ##pris                    </font></mark><mark style=\"background-color: hsl(120, 75%, 90%); opacity:1.0;                     line-height:1.75\"><font color=\"black\"> ##ing                    </font></mark><mark style=\"background-color: hsl(0, 75%, 100%); opacity:1.0;                     line-height:1.75\"><font color=\"black\"> [SEP]                    </font></mark></td><tr></table>"
            ]
          },
          "metadata": {}
        }
      ]
    },
    {
      "cell_type": "code",
      "source": [
        "word_attributions = explainer(text=riga_casuale2['full_text'].values[0])\n",
        "_ = explainer.visualize()"
      ],
      "metadata": {
        "id": "8CYkYdzbIzUv",
        "colab": {
          "base_uri": "https://localhost:8080/",
          "height": 218
        },
        "outputId": "078a69ae-9599-477a-d8d7-dd5adbf1371f"
      },
      "execution_count": 72,
      "outputs": [
        {
          "output_type": "display_data",
          "data": {
            "text/plain": [
              "<IPython.core.display.HTML object>"
            ],
            "text/html": [
              "<table width: 100%><div style=\"border-top: 1px solid; margin-top: 5px;             padding-top: 5px; display: inline-block\"><b>Legend: </b><span style=\"display: inline-block; width: 10px; height: 10px;                 border: 1px solid; background-color:                 hsl(0, 75%, 60%)\"></span> Negative  <span style=\"display: inline-block; width: 10px; height: 10px;                 border: 1px solid; background-color:                 hsl(0, 75%, 100%)\"></span> Neutral  <span style=\"display: inline-block; width: 10px; height: 10px;                 border: 1px solid; background-color:                 hsl(120, 75%, 50%)\"></span> Positive  </div><tr><th>True Label</th><th>Predicted Label</th><th>Attribution Label</th><th>Attribution Score</th><th>Word Importance</th><tr><td><text style=\"padding-right:2em\"><b>n/a</b></text></td><td><text style=\"padding-right:2em\"><b> (0.95)</b></text></td><td><text style=\"padding-right:2em\"><b>1 star</b></text></td><td><text style=\"padding-right:2em\"><b>3.06</b></text></td><td><mark style=\"background-color: hsl(0, 75%, 100%); opacity:1.0;                     line-height:1.75\"><font color=\"black\"> [CLS]                    </font></mark><mark style=\"background-color: hsl(120, 75%, 85%); opacity:1.0;                     line-height:1.75\"><font color=\"black\"> billion                    </font></mark><mark style=\"background-color: hsl(120, 75%, 99%); opacity:1.0;                     line-height:1.75\"><font color=\"black\"> ##aires                    </font></mark><mark style=\"background-color: hsl(120, 75%, 74%); opacity:1.0;                     line-height:1.75\"><font color=\"black\"> not                    </font></mark><mark style=\"background-color: hsl(0, 75%, 100%); opacity:1.0;                     line-height:1.75\"><font color=\"black\"> paying                    </font></mark><mark style=\"background-color: hsl(120, 75%, 100%); opacity:1.0;                     line-height:1.75\"><font color=\"black\"> taxes                    </font></mark><mark style=\"background-color: hsl(120, 75%, 97%); opacity:1.0;                     line-height:1.75\"><font color=\"black\"> means                    </font></mark><mark style=\"background-color: hsl(120, 75%, 81%); opacity:1.0;                     line-height:1.75\"><font color=\"black\"> poor                    </font></mark><mark style=\"background-color: hsl(120, 75%, 82%); opacity:1.0;                     line-height:1.75\"><font color=\"black\"> and                    </font></mark><mark style=\"background-color: hsl(0, 75%, 98%); opacity:1.0;                     line-height:1.75\"><font color=\"black\"> middle                    </font></mark><mark style=\"background-color: hsl(120, 75%, 96%); opacity:1.0;                     line-height:1.75\"><font color=\"black\"> class                    </font></mark><mark style=\"background-color: hsl(120, 75%, 100%); opacity:1.0;                     line-height:1.75\"><font color=\"black\"> americans                    </font></mark><mark style=\"background-color: hsl(120, 75%, 91%); opacity:1.0;                     line-height:1.75\"><font color=\"black\"> have                    </font></mark><mark style=\"background-color: hsl(120, 75%, 94%); opacity:1.0;                     line-height:1.75\"><font color=\"black\"> to                    </font></mark><mark style=\"background-color: hsl(120, 75%, 91%); opacity:1.0;                     line-height:1.75\"><font color=\"black\"> pay                    </font></mark><mark style=\"background-color: hsl(120, 75%, 91%); opacity:1.0;                     line-height:1.75\"><font color=\"black\"> more                    </font></mark><mark style=\"background-color: hsl(120, 75%, 94%); opacity:1.0;                     line-height:1.75\"><font color=\"black\"> in                    </font></mark><mark style=\"background-color: hsl(0, 75%, 100%); opacity:1.0;                     line-height:1.75\"><font color=\"black\"> taxes                    </font></mark><mark style=\"background-color: hsl(120, 75%, 95%); opacity:1.0;                     line-height:1.75\"><font color=\"black\"> .                    </font></mark><mark style=\"background-color: hsl(120, 75%, 83%); opacity:1.0;                     line-height:1.75\"><font color=\"black\"> boy                    </font></mark><mark style=\"background-color: hsl(120, 75%, 95%); opacity:1.0;                     line-height:1.75\"><font color=\"black\"> ##cott                    </font></mark><mark style=\"background-color: hsl(0, 75%, 96%); opacity:1.0;                     line-height:1.75\"><font color=\"black\"> tesla                    </font></mark><mark style=\"background-color: hsl(120, 75%, 98%); opacity:1.0;                     line-height:1.75\"><font color=\"black\"> .                    </font></mark><mark style=\"background-color: hsl(0, 75%, 100%); opacity:1.0;                     line-height:1.75\"><font color=\"black\"> [SEP]                    </font></mark></td><tr><tr><td><text style=\"padding-right:2em\"><b>n/a</b></text></td><td><text style=\"padding-right:2em\"><b> (0.83)</b></text></td><td><text style=\"padding-right:2em\"><b>2 stars</b></text></td><td><text style=\"padding-right:2em\"><b>2.23</b></text></td><td><mark style=\"background-color: hsl(0, 75%, 100%); opacity:1.0;                     line-height:1.75\"><font color=\"black\"> [CLS]                    </font></mark><mark style=\"background-color: hsl(120, 75%, 92%); opacity:1.0;                     line-height:1.75\"><font color=\"black\"> billion                    </font></mark><mark style=\"background-color: hsl(120, 75%, 97%); opacity:1.0;                     line-height:1.75\"><font color=\"black\"> ##aires                    </font></mark><mark style=\"background-color: hsl(120, 75%, 72%); opacity:1.0;                     line-height:1.75\"><font color=\"black\"> not                    </font></mark><mark style=\"background-color: hsl(120, 75%, 100%); opacity:1.0;                     line-height:1.75\"><font color=\"black\"> paying                    </font></mark><mark style=\"background-color: hsl(0, 75%, 98%); opacity:1.0;                     line-height:1.75\"><font color=\"black\"> taxes                    </font></mark><mark style=\"background-color: hsl(120, 75%, 96%); opacity:1.0;                     line-height:1.75\"><font color=\"black\"> means                    </font></mark><mark style=\"background-color: hsl(120, 75%, 70%); opacity:1.0;                     line-height:1.75\"><font color=\"black\"> poor                    </font></mark><mark style=\"background-color: hsl(120, 75%, 91%); opacity:1.0;                     line-height:1.75\"><font color=\"black\"> and                    </font></mark><mark style=\"background-color: hsl(120, 75%, 90%); opacity:1.0;                     line-height:1.75\"><font color=\"black\"> middle                    </font></mark><mark style=\"background-color: hsl(120, 75%, 96%); opacity:1.0;                     line-height:1.75\"><font color=\"black\"> class                    </font></mark><mark style=\"background-color: hsl(0, 75%, 93%); opacity:1.0;                     line-height:1.75\"><font color=\"black\"> americans                    </font></mark><mark style=\"background-color: hsl(120, 75%, 94%); opacity:1.0;                     line-height:1.75\"><font color=\"black\"> have                    </font></mark><mark style=\"background-color: hsl(120, 75%, 97%); opacity:1.0;                     line-height:1.75\"><font color=\"black\"> to                    </font></mark><mark style=\"background-color: hsl(120, 75%, 98%); opacity:1.0;                     line-height:1.75\"><font color=\"black\"> pay                    </font></mark><mark style=\"background-color: hsl(120, 75%, 89%); opacity:1.0;                     line-height:1.75\"><font color=\"black\"> more                    </font></mark><mark style=\"background-color: hsl(120, 75%, 100%); opacity:1.0;                     line-height:1.75\"><font color=\"black\"> in                    </font></mark><mark style=\"background-color: hsl(0, 75%, 98%); opacity:1.0;                     line-height:1.75\"><font color=\"black\"> taxes                    </font></mark><mark style=\"background-color: hsl(120, 75%, 93%); opacity:1.0;                     line-height:1.75\"><font color=\"black\"> .                    </font></mark><mark style=\"background-color: hsl(0, 75%, 97%); opacity:1.0;                     line-height:1.75\"><font color=\"black\"> boy                    </font></mark><mark style=\"background-color: hsl(0, 75%, 100%); opacity:1.0;                     line-height:1.75\"><font color=\"black\"> ##cott                    </font></mark><mark style=\"background-color: hsl(0, 75%, 96%); opacity:1.0;                     line-height:1.75\"><font color=\"black\"> tesla                    </font></mark><mark style=\"background-color: hsl(120, 75%, 96%); opacity:1.0;                     line-height:1.75\"><font color=\"black\"> .                    </font></mark><mark style=\"background-color: hsl(0, 75%, 100%); opacity:1.0;                     line-height:1.75\"><font color=\"black\"> [SEP]                    </font></mark></td><tr><tr><td><text style=\"padding-right:2em\"><b>n/a</b></text></td><td><text style=\"padding-right:2em\"><b> (0.53)</b></text></td><td><text style=\"padding-right:2em\"><b>3 stars</b></text></td><td><text style=\"padding-right:2em\"><b>-0.63</b></text></td><td><mark style=\"background-color: hsl(0, 75%, 100%); opacity:1.0;                     line-height:1.75\"><font color=\"black\"> [CLS]                    </font></mark><mark style=\"background-color: hsl(0, 75%, 84%); opacity:1.0;                     line-height:1.75\"><font color=\"black\"> billion                    </font></mark><mark style=\"background-color: hsl(120, 75%, 73%); opacity:1.0;                     line-height:1.75\"><font color=\"black\"> ##aires                    </font></mark><mark style=\"background-color: hsl(120, 75%, 98%); opacity:1.0;                     line-height:1.75\"><font color=\"black\"> not                    </font></mark><mark style=\"background-color: hsl(120, 75%, 98%); opacity:1.0;                     line-height:1.75\"><font color=\"black\"> paying                    </font></mark><mark style=\"background-color: hsl(0, 75%, 99%); opacity:1.0;                     line-height:1.75\"><font color=\"black\"> taxes                    </font></mark><mark style=\"background-color: hsl(120, 75%, 97%); opacity:1.0;                     line-height:1.75\"><font color=\"black\"> means                    </font></mark><mark style=\"background-color: hsl(120, 75%, 96%); opacity:1.0;                     line-height:1.75\"><font color=\"black\"> poor                    </font></mark><mark style=\"background-color: hsl(0, 75%, 90%); opacity:1.0;                     line-height:1.75\"><font color=\"black\"> and                    </font></mark><mark style=\"background-color: hsl(120, 75%, 90%); opacity:1.0;                     line-height:1.75\"><font color=\"black\"> middle                    </font></mark><mark style=\"background-color: hsl(0, 75%, 93%); opacity:1.0;                     line-height:1.75\"><font color=\"black\"> class                    </font></mark><mark style=\"background-color: hsl(0, 75%, 97%); opacity:1.0;                     line-height:1.75\"><font color=\"black\"> americans                    </font></mark><mark style=\"background-color: hsl(0, 75%, 97%); opacity:1.0;                     line-height:1.75\"><font color=\"black\"> have                    </font></mark><mark style=\"background-color: hsl(120, 75%, 99%); opacity:1.0;                     line-height:1.75\"><font color=\"black\"> to                    </font></mark><mark style=\"background-color: hsl(0, 75%, 96%); opacity:1.0;                     line-height:1.75\"><font color=\"black\"> pay                    </font></mark><mark style=\"background-color: hsl(120, 75%, 96%); opacity:1.0;                     line-height:1.75\"><font color=\"black\"> more                    </font></mark><mark style=\"background-color: hsl(120, 75%, 100%); opacity:1.0;                     line-height:1.75\"><font color=\"black\"> in                    </font></mark><mark style=\"background-color: hsl(0, 75%, 99%); opacity:1.0;                     line-height:1.75\"><font color=\"black\"> taxes                    </font></mark><mark style=\"background-color: hsl(0, 75%, 97%); opacity:1.0;                     line-height:1.75\"><font color=\"black\"> .                    </font></mark><mark style=\"background-color: hsl(0, 75%, 78%); opacity:1.0;                     line-height:1.75\"><font color=\"black\"> boy                    </font></mark><mark style=\"background-color: hsl(120, 75%, 98%); opacity:1.0;                     line-height:1.75\"><font color=\"black\"> ##cott                    </font></mark><mark style=\"background-color: hsl(120, 75%, 100%); opacity:1.0;                     line-height:1.75\"><font color=\"black\"> tesla                    </font></mark><mark style=\"background-color: hsl(120, 75%, 98%); opacity:1.0;                     line-height:1.75\"><font color=\"black\"> .                    </font></mark><mark style=\"background-color: hsl(0, 75%, 100%); opacity:1.0;                     line-height:1.75\"><font color=\"black\"> [SEP]                    </font></mark></td><tr><tr><td><text style=\"padding-right:2em\"><b>n/a</b></text></td><td><text style=\"padding-right:2em\"><b> (0.15)</b></text></td><td><text style=\"padding-right:2em\"><b>4 stars</b></text></td><td><text style=\"padding-right:2em\"><b>-2.69</b></text></td><td><mark style=\"background-color: hsl(0, 75%, 100%); opacity:1.0;                     line-height:1.75\"><font color=\"black\"> [CLS]                    </font></mark><mark style=\"background-color: hsl(0, 75%, 85%); opacity:1.0;                     line-height:1.75\"><font color=\"black\"> billion                    </font></mark><mark style=\"background-color: hsl(120, 75%, 98%); opacity:1.0;                     line-height:1.75\"><font color=\"black\"> ##aires                    </font></mark><mark style=\"background-color: hsl(0, 75%, 77%); opacity:1.0;                     line-height:1.75\"><font color=\"black\"> not                    </font></mark><mark style=\"background-color: hsl(120, 75%, 100%); opacity:1.0;                     line-height:1.75\"><font color=\"black\"> paying                    </font></mark><mark style=\"background-color: hsl(120, 75%, 99%); opacity:1.0;                     line-height:1.75\"><font color=\"black\"> taxes                    </font></mark><mark style=\"background-color: hsl(0, 75%, 99%); opacity:1.0;                     line-height:1.75\"><font color=\"black\"> means                    </font></mark><mark style=\"background-color: hsl(0, 75%, 82%); opacity:1.0;                     line-height:1.75\"><font color=\"black\"> poor                    </font></mark><mark style=\"background-color: hsl(0, 75%, 94%); opacity:1.0;                     line-height:1.75\"><font color=\"black\"> and                    </font></mark><mark style=\"background-color: hsl(120, 75%, 98%); opacity:1.0;                     line-height:1.75\"><font color=\"black\"> middle                    </font></mark><mark style=\"background-color: hsl(0, 75%, 97%); opacity:1.0;                     line-height:1.75\"><font color=\"black\"> class                    </font></mark><mark style=\"background-color: hsl(120, 75%, 95%); opacity:1.0;                     line-height:1.75\"><font color=\"black\"> americans                    </font></mark><mark style=\"background-color: hsl(0, 75%, 94%); opacity:1.0;                     line-height:1.75\"><font color=\"black\"> have                    </font></mark><mark style=\"background-color: hsl(0, 75%, 96%); opacity:1.0;                     line-height:1.75\"><font color=\"black\"> to                    </font></mark><mark style=\"background-color: hsl(0, 75%, 94%); opacity:1.0;                     line-height:1.75\"><font color=\"black\"> pay                    </font></mark><mark style=\"background-color: hsl(0, 75%, 92%); opacity:1.0;                     line-height:1.75\"><font color=\"black\"> more                    </font></mark><mark style=\"background-color: hsl(0, 75%, 97%); opacity:1.0;                     line-height:1.75\"><font color=\"black\"> in                    </font></mark><mark style=\"background-color: hsl(120, 75%, 100%); opacity:1.0;                     line-height:1.75\"><font color=\"black\"> taxes                    </font></mark><mark style=\"background-color: hsl(0, 75%, 93%); opacity:1.0;                     line-height:1.75\"><font color=\"black\"> .                    </font></mark><mark style=\"background-color: hsl(0, 75%, 90%); opacity:1.0;                     line-height:1.75\"><font color=\"black\"> boy                    </font></mark><mark style=\"background-color: hsl(0, 75%, 99%); opacity:1.0;                     line-height:1.75\"><font color=\"black\"> ##cott                    </font></mark><mark style=\"background-color: hsl(120, 75%, 95%); opacity:1.0;                     line-height:1.75\"><font color=\"black\"> tesla                    </font></mark><mark style=\"background-color: hsl(0, 75%, 96%); opacity:1.0;                     line-height:1.75\"><font color=\"black\"> .                    </font></mark><mark style=\"background-color: hsl(0, 75%, 100%); opacity:1.0;                     line-height:1.75\"><font color=\"black\"> [SEP]                    </font></mark></td><tr><tr><td><text style=\"padding-right:2em\"><b>n/a</b></text></td><td><text style=\"padding-right:2em\"><b> (0.10)</b></text></td><td><text style=\"padding-right:2em\"><b>5 stars</b></text></td><td><text style=\"padding-right:2em\"><b>-2.50</b></text></td><td><mark style=\"background-color: hsl(0, 75%, 100%); opacity:1.0;                     line-height:1.75\"><font color=\"black\"> [CLS]                    </font></mark><mark style=\"background-color: hsl(0, 75%, 97%); opacity:1.0;                     line-height:1.75\"><font color=\"black\"> billion                    </font></mark><mark style=\"background-color: hsl(0, 75%, 95%); opacity:1.0;                     line-height:1.75\"><font color=\"black\"> ##aires                    </font></mark><mark style=\"background-color: hsl(0, 75%, 77%); opacity:1.0;                     line-height:1.75\"><font color=\"black\"> not                    </font></mark><mark style=\"background-color: hsl(0, 75%, 100%); opacity:1.0;                     line-height:1.75\"><font color=\"black\"> paying                    </font></mark><mark style=\"background-color: hsl(120, 75%, 98%); opacity:1.0;                     line-height:1.75\"><font color=\"black\"> taxes                    </font></mark><mark style=\"background-color: hsl(0, 75%, 96%); opacity:1.0;                     line-height:1.75\"><font color=\"black\"> means                    </font></mark><mark style=\"background-color: hsl(0, 75%, 78%); opacity:1.0;                     line-height:1.75\"><font color=\"black\"> poor                    </font></mark><mark style=\"background-color: hsl(0, 75%, 87%); opacity:1.0;                     line-height:1.75\"><font color=\"black\"> and                    </font></mark><mark style=\"background-color: hsl(0, 75%, 90%); opacity:1.0;                     line-height:1.75\"><font color=\"black\"> middle                    </font></mark><mark style=\"background-color: hsl(0, 75%, 98%); opacity:1.0;                     line-height:1.75\"><font color=\"black\"> class                    </font></mark><mark style=\"background-color: hsl(120, 75%, 96%); opacity:1.0;                     line-height:1.75\"><font color=\"black\"> americans                    </font></mark><mark style=\"background-color: hsl(0, 75%, 95%); opacity:1.0;                     line-height:1.75\"><font color=\"black\"> have                    </font></mark><mark style=\"background-color: hsl(0, 75%, 98%); opacity:1.0;                     line-height:1.75\"><font color=\"black\"> to                    </font></mark><mark style=\"background-color: hsl(0, 75%, 97%); opacity:1.0;                     line-height:1.75\"><font color=\"black\"> pay                    </font></mark><mark style=\"background-color: hsl(0, 75%, 93%); opacity:1.0;                     line-height:1.75\"><font color=\"black\"> more                    </font></mark><mark style=\"background-color: hsl(0, 75%, 100%); opacity:1.0;                     line-height:1.75\"><font color=\"black\"> in                    </font></mark><mark style=\"background-color: hsl(120, 75%, 97%); opacity:1.0;                     line-height:1.75\"><font color=\"black\"> taxes                    </font></mark><mark style=\"background-color: hsl(0, 75%, 96%); opacity:1.0;                     line-height:1.75\"><font color=\"black\"> .                    </font></mark><mark style=\"background-color: hsl(0, 75%, 100%); opacity:1.0;                     line-height:1.75\"><font color=\"black\"> boy                    </font></mark><mark style=\"background-color: hsl(0, 75%, 99%); opacity:1.0;                     line-height:1.75\"><font color=\"black\"> ##cott                    </font></mark><mark style=\"background-color: hsl(120, 75%, 92%); opacity:1.0;                     line-height:1.75\"><font color=\"black\"> tesla                    </font></mark><mark style=\"background-color: hsl(0, 75%, 98%); opacity:1.0;                     line-height:1.75\"><font color=\"black\"> .                    </font></mark><mark style=\"background-color: hsl(0, 75%, 100%); opacity:1.0;                     line-height:1.75\"><font color=\"black\"> [SEP]                    </font></mark></td><tr></table>"
            ]
          },
          "metadata": {}
        }
      ]
    },
    {
      "cell_type": "code",
      "source": [
        "word_attributions = explainer(text=riga_casuale3['full_text'].values[0])\n",
        "_ = explainer.visualize()"
      ],
      "metadata": {
        "id": "1Vhz5urgJifn",
        "colab": {
          "base_uri": "https://localhost:8080/",
          "height": 218
        },
        "outputId": "cfc6c0a2-972c-46c4-f946-0043beb97d1a"
      },
      "execution_count": 73,
      "outputs": [
        {
          "output_type": "display_data",
          "data": {
            "text/plain": [
              "<IPython.core.display.HTML object>"
            ],
            "text/html": [
              "<table width: 100%><div style=\"border-top: 1px solid; margin-top: 5px;             padding-top: 5px; display: inline-block\"><b>Legend: </b><span style=\"display: inline-block; width: 10px; height: 10px;                 border: 1px solid; background-color:                 hsl(0, 75%, 60%)\"></span> Negative  <span style=\"display: inline-block; width: 10px; height: 10px;                 border: 1px solid; background-color:                 hsl(0, 75%, 100%)\"></span> Neutral  <span style=\"display: inline-block; width: 10px; height: 10px;                 border: 1px solid; background-color:                 hsl(120, 75%, 50%)\"></span> Positive  </div><tr><th>True Label</th><th>Predicted Label</th><th>Attribution Label</th><th>Attribution Score</th><th>Word Importance</th><tr><td><text style=\"padding-right:2em\"><b>n/a</b></text></td><td><text style=\"padding-right:2em\"><b> (0.68)</b></text></td><td><text style=\"padding-right:2em\"><b>1 star</b></text></td><td><text style=\"padding-right:2em\"><b>1.56</b></text></td><td><mark style=\"background-color: hsl(0, 75%, 100%); opacity:1.0;                     line-height:1.75\"><font color=\"black\"> [CLS]                    </font></mark><mark style=\"background-color: hsl(120, 75%, 68%); opacity:1.0;                     line-height:1.75\"><font color=\"black\"> can                    </font></mark><mark style=\"background-color: hsl(120, 75%, 92%); opacity:1.0;                     line-height:1.75\"><font color=\"black\"> you                    </font></mark><mark style=\"background-color: hsl(120, 75%, 87%); opacity:1.0;                     line-height:1.75\"><font color=\"black\"> blame                    </font></mark><mark style=\"background-color: hsl(120, 75%, 93%); opacity:1.0;                     line-height:1.75\"><font color=\"black\"> people                    </font></mark><mark style=\"background-color: hsl(0, 75%, 99%); opacity:1.0;                     line-height:1.75\"><font color=\"black\"> for                    </font></mark><mark style=\"background-color: hsl(0, 75%, 99%); opacity:1.0;                     line-height:1.75\"><font color=\"black\"> looking                    </font></mark><mark style=\"background-color: hsl(0, 75%, 99%); opacity:1.0;                     line-height:1.75\"><font color=\"black\"> at                    </font></mark><mark style=\"background-color: hsl(120, 75%, 99%); opacity:1.0;                     line-height:1.75\"><font color=\"black\"> that                    </font></mark><mark style=\"background-color: hsl(0, 75%, 89%); opacity:1.0;                     line-height:1.75\"><font color=\"black\"> page                    </font></mark><mark style=\"background-color: hsl(120, 75%, 92%); opacity:1.0;                     line-height:1.75\"><font color=\"black\"> and                    </font></mark><mark style=\"background-color: hsl(120, 75%, 100%); opacity:1.0;                     line-height:1.75\"><font color=\"black\"> thinking                    </font></mark><mark style=\"background-color: hsl(120, 75%, 87%); opacity:1.0;                     line-height:1.75\"><font color=\"black\"> the                    </font></mark><mark style=\"background-color: hsl(0, 75%, 96%); opacity:1.0;                     line-height:1.75\"><font color=\"black\"> car                    </font></mark><mark style=\"background-color: hsl(120, 75%, 93%); opacity:1.0;                     line-height:1.75\"><font color=\"black\"> can                    </font></mark><mark style=\"background-color: hsl(0, 75%, 94%); opacity:1.0;                     line-height:1.75\"><font color=\"black\"> drive                    </font></mark><mark style=\"background-color: hsl(0, 75%, 97%); opacity:1.0;                     line-height:1.75\"><font color=\"black\"> itself                    </font></mark><mark style=\"background-color: hsl(120, 75%, 78%); opacity:1.0;                     line-height:1.75\"><font color=\"black\"> ?                    </font></mark><mark style=\"background-color: hsl(0, 75%, 100%); opacity:1.0;                     line-height:1.75\"><font color=\"black\"> [SEP]                    </font></mark></td><tr><tr><td><text style=\"padding-right:2em\"><b>n/a</b></text></td><td><text style=\"padding-right:2em\"><b> (0.58)</b></text></td><td><text style=\"padding-right:2em\"><b>2 stars</b></text></td><td><text style=\"padding-right:2em\"><b>0.47</b></text></td><td><mark style=\"background-color: hsl(0, 75%, 100%); opacity:1.0;                     line-height:1.75\"><font color=\"black\"> [CLS]                    </font></mark><mark style=\"background-color: hsl(120, 75%, 65%); opacity:1.0;                     line-height:1.75\"><font color=\"black\"> can                    </font></mark><mark style=\"background-color: hsl(120, 75%, 98%); opacity:1.0;                     line-height:1.75\"><font color=\"black\"> you                    </font></mark><mark style=\"background-color: hsl(120, 75%, 91%); opacity:1.0;                     line-height:1.75\"><font color=\"black\"> blame                    </font></mark><mark style=\"background-color: hsl(120, 75%, 98%); opacity:1.0;                     line-height:1.75\"><font color=\"black\"> people                    </font></mark><mark style=\"background-color: hsl(0, 75%, 100%); opacity:1.0;                     line-height:1.75\"><font color=\"black\"> for                    </font></mark><mark style=\"background-color: hsl(120, 75%, 100%); opacity:1.0;                     line-height:1.75\"><font color=\"black\"> looking                    </font></mark><mark style=\"background-color: hsl(0, 75%, 98%); opacity:1.0;                     line-height:1.75\"><font color=\"black\"> at                    </font></mark><mark style=\"background-color: hsl(120, 75%, 97%); opacity:1.0;                     line-height:1.75\"><font color=\"black\"> that                    </font></mark><mark style=\"background-color: hsl(0, 75%, 89%); opacity:1.0;                     line-height:1.75\"><font color=\"black\"> page                    </font></mark><mark style=\"background-color: hsl(120, 75%, 91%); opacity:1.0;                     line-height:1.75\"><font color=\"black\"> and                    </font></mark><mark style=\"background-color: hsl(120, 75%, 99%); opacity:1.0;                     line-height:1.75\"><font color=\"black\"> thinking                    </font></mark><mark style=\"background-color: hsl(120, 75%, 96%); opacity:1.0;                     line-height:1.75\"><font color=\"black\"> the                    </font></mark><mark style=\"background-color: hsl(0, 75%, 91%); opacity:1.0;                     line-height:1.75\"><font color=\"black\"> car                    </font></mark><mark style=\"background-color: hsl(0, 75%, 98%); opacity:1.0;                     line-height:1.75\"><font color=\"black\"> can                    </font></mark><mark style=\"background-color: hsl(0, 75%, 84%); opacity:1.0;                     line-height:1.75\"><font color=\"black\"> drive                    </font></mark><mark style=\"background-color: hsl(0, 75%, 95%); opacity:1.0;                     line-height:1.75\"><font color=\"black\"> itself                    </font></mark><mark style=\"background-color: hsl(120, 75%, 87%); opacity:1.0;                     line-height:1.75\"><font color=\"black\"> ?                    </font></mark><mark style=\"background-color: hsl(0, 75%, 100%); opacity:1.0;                     line-height:1.75\"><font color=\"black\"> [SEP]                    </font></mark></td><tr><tr><td><text style=\"padding-right:2em\"><b>n/a</b></text></td><td><text style=\"padding-right:2em\"><b> (0.52)</b></text></td><td><text style=\"padding-right:2em\"><b>3 stars</b></text></td><td><text style=\"padding-right:2em\"><b>-0.88</b></text></td><td><mark style=\"background-color: hsl(0, 75%, 100%); opacity:1.0;                     line-height:1.75\"><font color=\"black\"> [CLS]                    </font></mark><mark style=\"background-color: hsl(120, 75%, 70%); opacity:1.0;                     line-height:1.75\"><font color=\"black\"> can                    </font></mark><mark style=\"background-color: hsl(120, 75%, 97%); opacity:1.0;                     line-height:1.75\"><font color=\"black\"> you                    </font></mark><mark style=\"background-color: hsl(0, 75%, 86%); opacity:1.0;                     line-height:1.75\"><font color=\"black\"> blame                    </font></mark><mark style=\"background-color: hsl(0, 75%, 92%); opacity:1.0;                     line-height:1.75\"><font color=\"black\"> people                    </font></mark><mark style=\"background-color: hsl(0, 75%, 95%); opacity:1.0;                     line-height:1.75\"><font color=\"black\"> for                    </font></mark><mark style=\"background-color: hsl(120, 75%, 96%); opacity:1.0;                     line-height:1.75\"><font color=\"black\"> looking                    </font></mark><mark style=\"background-color: hsl(120, 75%, 99%); opacity:1.0;                     line-height:1.75\"><font color=\"black\"> at                    </font></mark><mark style=\"background-color: hsl(0, 75%, 95%); opacity:1.0;                     line-height:1.75\"><font color=\"black\"> that                    </font></mark><mark style=\"background-color: hsl(120, 75%, 86%); opacity:1.0;                     line-height:1.75\"><font color=\"black\"> page                    </font></mark><mark style=\"background-color: hsl(0, 75%, 95%); opacity:1.0;                     line-height:1.75\"><font color=\"black\"> and                    </font></mark><mark style=\"background-color: hsl(120, 75%, 96%); opacity:1.0;                     line-height:1.75\"><font color=\"black\"> thinking                    </font></mark><mark style=\"background-color: hsl(0, 75%, 87%); opacity:1.0;                     line-height:1.75\"><font color=\"black\"> the                    </font></mark><mark style=\"background-color: hsl(0, 75%, 99%); opacity:1.0;                     line-height:1.75\"><font color=\"black\"> car                    </font></mark><mark style=\"background-color: hsl(0, 75%, 90%); opacity:1.0;                     line-height:1.75\"><font color=\"black\"> can                    </font></mark><mark style=\"background-color: hsl(0, 75%, 88%); opacity:1.0;                     line-height:1.75\"><font color=\"black\"> drive                    </font></mark><mark style=\"background-color: hsl(0, 75%, 97%); opacity:1.0;                     line-height:1.75\"><font color=\"black\"> itself                    </font></mark><mark style=\"background-color: hsl(0, 75%, 99%); opacity:1.0;                     line-height:1.75\"><font color=\"black\"> ?                    </font></mark><mark style=\"background-color: hsl(0, 75%, 100%); opacity:1.0;                     line-height:1.75\"><font color=\"black\"> [SEP]                    </font></mark></td><tr><tr><td><text style=\"padding-right:2em\"><b>n/a</b></text></td><td><text style=\"padding-right:2em\"><b> (0.40)</b></text></td><td><text style=\"padding-right:2em\"><b>4 stars</b></text></td><td><text style=\"padding-right:2em\"><b>-1.33</b></text></td><td><mark style=\"background-color: hsl(0, 75%, 100%); opacity:1.0;                     line-height:1.75\"><font color=\"black\"> [CLS]                    </font></mark><mark style=\"background-color: hsl(0, 75%, 77%); opacity:1.0;                     line-height:1.75\"><font color=\"black\"> can                    </font></mark><mark style=\"background-color: hsl(0, 75%, 90%); opacity:1.0;                     line-height:1.75\"><font color=\"black\"> you                    </font></mark><mark style=\"background-color: hsl(0, 75%, 87%); opacity:1.0;                     line-height:1.75\"><font color=\"black\"> blame                    </font></mark><mark style=\"background-color: hsl(0, 75%, 96%); opacity:1.0;                     line-height:1.75\"><font color=\"black\"> people                    </font></mark><mark style=\"background-color: hsl(120, 75%, 97%); opacity:1.0;                     line-height:1.75\"><font color=\"black\"> for                    </font></mark><mark style=\"background-color: hsl(120, 75%, 97%); opacity:1.0;                     line-height:1.75\"><font color=\"black\"> looking                    </font></mark><mark style=\"background-color: hsl(120, 75%, 95%); opacity:1.0;                     line-height:1.75\"><font color=\"black\"> at                    </font></mark><mark style=\"background-color: hsl(0, 75%, 98%); opacity:1.0;                     line-height:1.75\"><font color=\"black\"> that                    </font></mark><mark style=\"background-color: hsl(120, 75%, 83%); opacity:1.0;                     line-height:1.75\"><font color=\"black\"> page                    </font></mark><mark style=\"background-color: hsl(0, 75%, 94%); opacity:1.0;                     line-height:1.75\"><font color=\"black\"> and                    </font></mark><mark style=\"background-color: hsl(0, 75%, 96%); opacity:1.0;                     line-height:1.75\"><font color=\"black\"> thinking                    </font></mark><mark style=\"background-color: hsl(0, 75%, 92%); opacity:1.0;                     line-height:1.75\"><font color=\"black\"> the                    </font></mark><mark style=\"background-color: hsl(120, 75%, 95%); opacity:1.0;                     line-height:1.75\"><font color=\"black\"> car                    </font></mark><mark style=\"background-color: hsl(0, 75%, 99%); opacity:1.0;                     line-height:1.75\"><font color=\"black\"> can                    </font></mark><mark style=\"background-color: hsl(120, 75%, 90%); opacity:1.0;                     line-height:1.75\"><font color=\"black\"> drive                    </font></mark><mark style=\"background-color: hsl(120, 75%, 99%); opacity:1.0;                     line-height:1.75\"><font color=\"black\"> itself                    </font></mark><mark style=\"background-color: hsl(0, 75%, 85%); opacity:1.0;                     line-height:1.75\"><font color=\"black\"> ?                    </font></mark><mark style=\"background-color: hsl(0, 75%, 100%); opacity:1.0;                     line-height:1.75\"><font color=\"black\"> [SEP]                    </font></mark></td><tr><tr><td><text style=\"padding-right:2em\"><b>n/a</b></text></td><td><text style=\"padding-right:2em\"><b> (0.31)</b></text></td><td><text style=\"padding-right:2em\"><b>5 stars</b></text></td><td><text style=\"padding-right:2em\"><b>-0.92</b></text></td><td><mark style=\"background-color: hsl(0, 75%, 100%); opacity:1.0;                     line-height:1.75\"><font color=\"black\"> [CLS]                    </font></mark><mark style=\"background-color: hsl(0, 75%, 70%); opacity:1.0;                     line-height:1.75\"><font color=\"black\"> can                    </font></mark><mark style=\"background-color: hsl(0, 75%, 96%); opacity:1.0;                     line-height:1.75\"><font color=\"black\"> you                    </font></mark><mark style=\"background-color: hsl(0, 75%, 94%); opacity:1.0;                     line-height:1.75\"><font color=\"black\"> blame                    </font></mark><mark style=\"background-color: hsl(0, 75%, 98%); opacity:1.0;                     line-height:1.75\"><font color=\"black\"> people                    </font></mark><mark style=\"background-color: hsl(120, 75%, 98%); opacity:1.0;                     line-height:1.75\"><font color=\"black\"> for                    </font></mark><mark style=\"background-color: hsl(0, 75%, 100%); opacity:1.0;                     line-height:1.75\"><font color=\"black\"> looking                    </font></mark><mark style=\"background-color: hsl(0, 75%, 100%); opacity:1.0;                     line-height:1.75\"><font color=\"black\"> at                    </font></mark><mark style=\"background-color: hsl(0, 75%, 98%); opacity:1.0;                     line-height:1.75\"><font color=\"black\"> that                    </font></mark><mark style=\"background-color: hsl(120, 75%, 91%); opacity:1.0;                     line-height:1.75\"><font color=\"black\"> page                    </font></mark><mark style=\"background-color: hsl(0, 75%, 96%); opacity:1.0;                     line-height:1.75\"><font color=\"black\"> and                    </font></mark><mark style=\"background-color: hsl(0, 75%, 99%); opacity:1.0;                     line-height:1.75\"><font color=\"black\"> thinking                    </font></mark><mark style=\"background-color: hsl(0, 75%, 97%); opacity:1.0;                     line-height:1.75\"><font color=\"black\"> the                    </font></mark><mark style=\"background-color: hsl(120, 75%, 91%); opacity:1.0;                     line-height:1.75\"><font color=\"black\"> car                    </font></mark><mark style=\"background-color: hsl(120, 75%, 100%); opacity:1.0;                     line-height:1.75\"><font color=\"black\"> can                    </font></mark><mark style=\"background-color: hsl(120, 75%, 85%); opacity:1.0;                     line-height:1.75\"><font color=\"black\"> drive                    </font></mark><mark style=\"background-color: hsl(120, 75%, 93%); opacity:1.0;                     line-height:1.75\"><font color=\"black\"> itself                    </font></mark><mark style=\"background-color: hsl(0, 75%, 85%); opacity:1.0;                     line-height:1.75\"><font color=\"black\"> ?                    </font></mark><mark style=\"background-color: hsl(0, 75%, 100%); opacity:1.0;                     line-height:1.75\"><font color=\"black\"> [SEP]                    </font></mark></td><tr></table>"
            ]
          },
          "metadata": {}
        }
      ]
    }
  ],
  "metadata": {
    "colab": {
      "collapsed_sections": [
        "EH3DvCc84mEK"
      ],
      "provenance": [],
      "gpuType": "T4"
    },
    "kernelspec": {
      "display_name": "Python 3",
      "name": "python3"
    },
    "language_info": {
      "name": "python"
    },
    "accelerator": "GPU",
    "widgets": {
      "application/vnd.jupyter.widget-state+json": {
        "5c3716c0d78049cf8b82c320d8882aa7": {
          "model_module": "@jupyter-widgets/controls",
          "model_name": "HBoxModel",
          "model_module_version": "1.5.0",
          "state": {
            "_dom_classes": [],
            "_model_module": "@jupyter-widgets/controls",
            "_model_module_version": "1.5.0",
            "_model_name": "HBoxModel",
            "_view_count": null,
            "_view_module": "@jupyter-widgets/controls",
            "_view_module_version": "1.5.0",
            "_view_name": "HBoxView",
            "box_style": "",
            "children": [
              "IPY_MODEL_8cf473b9fa344751b6c109b7f1a061b6",
              "IPY_MODEL_bc2b6d8d78fe47eb9a028477314e5e67",
              "IPY_MODEL_081e657d7fb3407288a6cb53347bf283"
            ],
            "layout": "IPY_MODEL_68a966eb973245eca27dd6554e38d307"
          }
        },
        "8cf473b9fa344751b6c109b7f1a061b6": {
          "model_module": "@jupyter-widgets/controls",
          "model_name": "HTMLModel",
          "model_module_version": "1.5.0",
          "state": {
            "_dom_classes": [],
            "_model_module": "@jupyter-widgets/controls",
            "_model_module_version": "1.5.0",
            "_model_name": "HTMLModel",
            "_view_count": null,
            "_view_module": "@jupyter-widgets/controls",
            "_view_module_version": "1.5.0",
            "_view_name": "HTMLView",
            "description": "",
            "description_tooltip": null,
            "layout": "IPY_MODEL_9da56247a34c4b488d0a0f97cb3dab60",
            "placeholder": "​",
            "style": "IPY_MODEL_591bee16c6c84f5a83ce6e068c2505cb",
            "value": "config.json: 100%"
          }
        },
        "bc2b6d8d78fe47eb9a028477314e5e67": {
          "model_module": "@jupyter-widgets/controls",
          "model_name": "FloatProgressModel",
          "model_module_version": "1.5.0",
          "state": {
            "_dom_classes": [],
            "_model_module": "@jupyter-widgets/controls",
            "_model_module_version": "1.5.0",
            "_model_name": "FloatProgressModel",
            "_view_count": null,
            "_view_module": "@jupyter-widgets/controls",
            "_view_module_version": "1.5.0",
            "_view_name": "ProgressView",
            "bar_style": "success",
            "description": "",
            "description_tooltip": null,
            "layout": "IPY_MODEL_bdbdcac0d68241e48d8615f288aedbfc",
            "max": 953,
            "min": 0,
            "orientation": "horizontal",
            "style": "IPY_MODEL_6febe28a79f8428ab70df8eb87d1823b",
            "value": 953
          }
        },
        "081e657d7fb3407288a6cb53347bf283": {
          "model_module": "@jupyter-widgets/controls",
          "model_name": "HTMLModel",
          "model_module_version": "1.5.0",
          "state": {
            "_dom_classes": [],
            "_model_module": "@jupyter-widgets/controls",
            "_model_module_version": "1.5.0",
            "_model_name": "HTMLModel",
            "_view_count": null,
            "_view_module": "@jupyter-widgets/controls",
            "_view_module_version": "1.5.0",
            "_view_name": "HTMLView",
            "description": "",
            "description_tooltip": null,
            "layout": "IPY_MODEL_db01fcdf70314c1a931ba640d6530466",
            "placeholder": "​",
            "style": "IPY_MODEL_07780eeec9ba4e35917c2fcc11ef8ad1",
            "value": " 953/953 [00:00&lt;00:00, 77.4kB/s]"
          }
        },
        "68a966eb973245eca27dd6554e38d307": {
          "model_module": "@jupyter-widgets/base",
          "model_name": "LayoutModel",
          "model_module_version": "1.2.0",
          "state": {
            "_model_module": "@jupyter-widgets/base",
            "_model_module_version": "1.2.0",
            "_model_name": "LayoutModel",
            "_view_count": null,
            "_view_module": "@jupyter-widgets/base",
            "_view_module_version": "1.2.0",
            "_view_name": "LayoutView",
            "align_content": null,
            "align_items": null,
            "align_self": null,
            "border": null,
            "bottom": null,
            "display": null,
            "flex": null,
            "flex_flow": null,
            "grid_area": null,
            "grid_auto_columns": null,
            "grid_auto_flow": null,
            "grid_auto_rows": null,
            "grid_column": null,
            "grid_gap": null,
            "grid_row": null,
            "grid_template_areas": null,
            "grid_template_columns": null,
            "grid_template_rows": null,
            "height": null,
            "justify_content": null,
            "justify_items": null,
            "left": null,
            "margin": null,
            "max_height": null,
            "max_width": null,
            "min_height": null,
            "min_width": null,
            "object_fit": null,
            "object_position": null,
            "order": null,
            "overflow": null,
            "overflow_x": null,
            "overflow_y": null,
            "padding": null,
            "right": null,
            "top": null,
            "visibility": null,
            "width": null
          }
        },
        "9da56247a34c4b488d0a0f97cb3dab60": {
          "model_module": "@jupyter-widgets/base",
          "model_name": "LayoutModel",
          "model_module_version": "1.2.0",
          "state": {
            "_model_module": "@jupyter-widgets/base",
            "_model_module_version": "1.2.0",
            "_model_name": "LayoutModel",
            "_view_count": null,
            "_view_module": "@jupyter-widgets/base",
            "_view_module_version": "1.2.0",
            "_view_name": "LayoutView",
            "align_content": null,
            "align_items": null,
            "align_self": null,
            "border": null,
            "bottom": null,
            "display": null,
            "flex": null,
            "flex_flow": null,
            "grid_area": null,
            "grid_auto_columns": null,
            "grid_auto_flow": null,
            "grid_auto_rows": null,
            "grid_column": null,
            "grid_gap": null,
            "grid_row": null,
            "grid_template_areas": null,
            "grid_template_columns": null,
            "grid_template_rows": null,
            "height": null,
            "justify_content": null,
            "justify_items": null,
            "left": null,
            "margin": null,
            "max_height": null,
            "max_width": null,
            "min_height": null,
            "min_width": null,
            "object_fit": null,
            "object_position": null,
            "order": null,
            "overflow": null,
            "overflow_x": null,
            "overflow_y": null,
            "padding": null,
            "right": null,
            "top": null,
            "visibility": null,
            "width": null
          }
        },
        "591bee16c6c84f5a83ce6e068c2505cb": {
          "model_module": "@jupyter-widgets/controls",
          "model_name": "DescriptionStyleModel",
          "model_module_version": "1.5.0",
          "state": {
            "_model_module": "@jupyter-widgets/controls",
            "_model_module_version": "1.5.0",
            "_model_name": "DescriptionStyleModel",
            "_view_count": null,
            "_view_module": "@jupyter-widgets/base",
            "_view_module_version": "1.2.0",
            "_view_name": "StyleView",
            "description_width": ""
          }
        },
        "bdbdcac0d68241e48d8615f288aedbfc": {
          "model_module": "@jupyter-widgets/base",
          "model_name": "LayoutModel",
          "model_module_version": "1.2.0",
          "state": {
            "_model_module": "@jupyter-widgets/base",
            "_model_module_version": "1.2.0",
            "_model_name": "LayoutModel",
            "_view_count": null,
            "_view_module": "@jupyter-widgets/base",
            "_view_module_version": "1.2.0",
            "_view_name": "LayoutView",
            "align_content": null,
            "align_items": null,
            "align_self": null,
            "border": null,
            "bottom": null,
            "display": null,
            "flex": null,
            "flex_flow": null,
            "grid_area": null,
            "grid_auto_columns": null,
            "grid_auto_flow": null,
            "grid_auto_rows": null,
            "grid_column": null,
            "grid_gap": null,
            "grid_row": null,
            "grid_template_areas": null,
            "grid_template_columns": null,
            "grid_template_rows": null,
            "height": null,
            "justify_content": null,
            "justify_items": null,
            "left": null,
            "margin": null,
            "max_height": null,
            "max_width": null,
            "min_height": null,
            "min_width": null,
            "object_fit": null,
            "object_position": null,
            "order": null,
            "overflow": null,
            "overflow_x": null,
            "overflow_y": null,
            "padding": null,
            "right": null,
            "top": null,
            "visibility": null,
            "width": null
          }
        },
        "6febe28a79f8428ab70df8eb87d1823b": {
          "model_module": "@jupyter-widgets/controls",
          "model_name": "ProgressStyleModel",
          "model_module_version": "1.5.0",
          "state": {
            "_model_module": "@jupyter-widgets/controls",
            "_model_module_version": "1.5.0",
            "_model_name": "ProgressStyleModel",
            "_view_count": null,
            "_view_module": "@jupyter-widgets/base",
            "_view_module_version": "1.2.0",
            "_view_name": "StyleView",
            "bar_color": null,
            "description_width": ""
          }
        },
        "db01fcdf70314c1a931ba640d6530466": {
          "model_module": "@jupyter-widgets/base",
          "model_name": "LayoutModel",
          "model_module_version": "1.2.0",
          "state": {
            "_model_module": "@jupyter-widgets/base",
            "_model_module_version": "1.2.0",
            "_model_name": "LayoutModel",
            "_view_count": null,
            "_view_module": "@jupyter-widgets/base",
            "_view_module_version": "1.2.0",
            "_view_name": "LayoutView",
            "align_content": null,
            "align_items": null,
            "align_self": null,
            "border": null,
            "bottom": null,
            "display": null,
            "flex": null,
            "flex_flow": null,
            "grid_area": null,
            "grid_auto_columns": null,
            "grid_auto_flow": null,
            "grid_auto_rows": null,
            "grid_column": null,
            "grid_gap": null,
            "grid_row": null,
            "grid_template_areas": null,
            "grid_template_columns": null,
            "grid_template_rows": null,
            "height": null,
            "justify_content": null,
            "justify_items": null,
            "left": null,
            "margin": null,
            "max_height": null,
            "max_width": null,
            "min_height": null,
            "min_width": null,
            "object_fit": null,
            "object_position": null,
            "order": null,
            "overflow": null,
            "overflow_x": null,
            "overflow_y": null,
            "padding": null,
            "right": null,
            "top": null,
            "visibility": null,
            "width": null
          }
        },
        "07780eeec9ba4e35917c2fcc11ef8ad1": {
          "model_module": "@jupyter-widgets/controls",
          "model_name": "DescriptionStyleModel",
          "model_module_version": "1.5.0",
          "state": {
            "_model_module": "@jupyter-widgets/controls",
            "_model_module_version": "1.5.0",
            "_model_name": "DescriptionStyleModel",
            "_view_count": null,
            "_view_module": "@jupyter-widgets/base",
            "_view_module_version": "1.2.0",
            "_view_name": "StyleView",
            "description_width": ""
          }
        },
        "3529da19ee5549848bb90cbf4be20c85": {
          "model_module": "@jupyter-widgets/controls",
          "model_name": "HBoxModel",
          "model_module_version": "1.5.0",
          "state": {
            "_dom_classes": [],
            "_model_module": "@jupyter-widgets/controls",
            "_model_module_version": "1.5.0",
            "_model_name": "HBoxModel",
            "_view_count": null,
            "_view_module": "@jupyter-widgets/controls",
            "_view_module_version": "1.5.0",
            "_view_name": "HBoxView",
            "box_style": "",
            "children": [
              "IPY_MODEL_5faf404fd5bc47bd8ed6c95a519b0bd9",
              "IPY_MODEL_8ce25c2133ba42428774e2afb7b24405",
              "IPY_MODEL_165178d5bc3f4164bc7d42f0ea391b2d"
            ],
            "layout": "IPY_MODEL_6a89705c7d194fe3bee0b42d847e959b"
          }
        },
        "5faf404fd5bc47bd8ed6c95a519b0bd9": {
          "model_module": "@jupyter-widgets/controls",
          "model_name": "HTMLModel",
          "model_module_version": "1.5.0",
          "state": {
            "_dom_classes": [],
            "_model_module": "@jupyter-widgets/controls",
            "_model_module_version": "1.5.0",
            "_model_name": "HTMLModel",
            "_view_count": null,
            "_view_module": "@jupyter-widgets/controls",
            "_view_module_version": "1.5.0",
            "_view_name": "HTMLView",
            "description": "",
            "description_tooltip": null,
            "layout": "IPY_MODEL_46f6741bf606456783a1098af393886c",
            "placeholder": "​",
            "style": "IPY_MODEL_8b3f4189ef22405495b40902e23b67d9",
            "value": "model.safetensors: 100%"
          }
        },
        "8ce25c2133ba42428774e2afb7b24405": {
          "model_module": "@jupyter-widgets/controls",
          "model_name": "FloatProgressModel",
          "model_module_version": "1.5.0",
          "state": {
            "_dom_classes": [],
            "_model_module": "@jupyter-widgets/controls",
            "_model_module_version": "1.5.0",
            "_model_name": "FloatProgressModel",
            "_view_count": null,
            "_view_module": "@jupyter-widgets/controls",
            "_view_module_version": "1.5.0",
            "_view_name": "ProgressView",
            "bar_style": "success",
            "description": "",
            "description_tooltip": null,
            "layout": "IPY_MODEL_55abd66cdbf84129ade57a67a8992039",
            "max": 669464588,
            "min": 0,
            "orientation": "horizontal",
            "style": "IPY_MODEL_ec60b5a7bd1f45e3817f1b8f968afc97",
            "value": 669464588
          }
        },
        "165178d5bc3f4164bc7d42f0ea391b2d": {
          "model_module": "@jupyter-widgets/controls",
          "model_name": "HTMLModel",
          "model_module_version": "1.5.0",
          "state": {
            "_dom_classes": [],
            "_model_module": "@jupyter-widgets/controls",
            "_model_module_version": "1.5.0",
            "_model_name": "HTMLModel",
            "_view_count": null,
            "_view_module": "@jupyter-widgets/controls",
            "_view_module_version": "1.5.0",
            "_view_name": "HTMLView",
            "description": "",
            "description_tooltip": null,
            "layout": "IPY_MODEL_495212a17cd144ef8b7689791f57b075",
            "placeholder": "​",
            "style": "IPY_MODEL_7941fcad532e4a6386d89ed8a6c22e58",
            "value": " 669M/669M [00:02&lt;00:00, 240MB/s]"
          }
        },
        "6a89705c7d194fe3bee0b42d847e959b": {
          "model_module": "@jupyter-widgets/base",
          "model_name": "LayoutModel",
          "model_module_version": "1.2.0",
          "state": {
            "_model_module": "@jupyter-widgets/base",
            "_model_module_version": "1.2.0",
            "_model_name": "LayoutModel",
            "_view_count": null,
            "_view_module": "@jupyter-widgets/base",
            "_view_module_version": "1.2.0",
            "_view_name": "LayoutView",
            "align_content": null,
            "align_items": null,
            "align_self": null,
            "border": null,
            "bottom": null,
            "display": null,
            "flex": null,
            "flex_flow": null,
            "grid_area": null,
            "grid_auto_columns": null,
            "grid_auto_flow": null,
            "grid_auto_rows": null,
            "grid_column": null,
            "grid_gap": null,
            "grid_row": null,
            "grid_template_areas": null,
            "grid_template_columns": null,
            "grid_template_rows": null,
            "height": null,
            "justify_content": null,
            "justify_items": null,
            "left": null,
            "margin": null,
            "max_height": null,
            "max_width": null,
            "min_height": null,
            "min_width": null,
            "object_fit": null,
            "object_position": null,
            "order": null,
            "overflow": null,
            "overflow_x": null,
            "overflow_y": null,
            "padding": null,
            "right": null,
            "top": null,
            "visibility": null,
            "width": null
          }
        },
        "46f6741bf606456783a1098af393886c": {
          "model_module": "@jupyter-widgets/base",
          "model_name": "LayoutModel",
          "model_module_version": "1.2.0",
          "state": {
            "_model_module": "@jupyter-widgets/base",
            "_model_module_version": "1.2.0",
            "_model_name": "LayoutModel",
            "_view_count": null,
            "_view_module": "@jupyter-widgets/base",
            "_view_module_version": "1.2.0",
            "_view_name": "LayoutView",
            "align_content": null,
            "align_items": null,
            "align_self": null,
            "border": null,
            "bottom": null,
            "display": null,
            "flex": null,
            "flex_flow": null,
            "grid_area": null,
            "grid_auto_columns": null,
            "grid_auto_flow": null,
            "grid_auto_rows": null,
            "grid_column": null,
            "grid_gap": null,
            "grid_row": null,
            "grid_template_areas": null,
            "grid_template_columns": null,
            "grid_template_rows": null,
            "height": null,
            "justify_content": null,
            "justify_items": null,
            "left": null,
            "margin": null,
            "max_height": null,
            "max_width": null,
            "min_height": null,
            "min_width": null,
            "object_fit": null,
            "object_position": null,
            "order": null,
            "overflow": null,
            "overflow_x": null,
            "overflow_y": null,
            "padding": null,
            "right": null,
            "top": null,
            "visibility": null,
            "width": null
          }
        },
        "8b3f4189ef22405495b40902e23b67d9": {
          "model_module": "@jupyter-widgets/controls",
          "model_name": "DescriptionStyleModel",
          "model_module_version": "1.5.0",
          "state": {
            "_model_module": "@jupyter-widgets/controls",
            "_model_module_version": "1.5.0",
            "_model_name": "DescriptionStyleModel",
            "_view_count": null,
            "_view_module": "@jupyter-widgets/base",
            "_view_module_version": "1.2.0",
            "_view_name": "StyleView",
            "description_width": ""
          }
        },
        "55abd66cdbf84129ade57a67a8992039": {
          "model_module": "@jupyter-widgets/base",
          "model_name": "LayoutModel",
          "model_module_version": "1.2.0",
          "state": {
            "_model_module": "@jupyter-widgets/base",
            "_model_module_version": "1.2.0",
            "_model_name": "LayoutModel",
            "_view_count": null,
            "_view_module": "@jupyter-widgets/base",
            "_view_module_version": "1.2.0",
            "_view_name": "LayoutView",
            "align_content": null,
            "align_items": null,
            "align_self": null,
            "border": null,
            "bottom": null,
            "display": null,
            "flex": null,
            "flex_flow": null,
            "grid_area": null,
            "grid_auto_columns": null,
            "grid_auto_flow": null,
            "grid_auto_rows": null,
            "grid_column": null,
            "grid_gap": null,
            "grid_row": null,
            "grid_template_areas": null,
            "grid_template_columns": null,
            "grid_template_rows": null,
            "height": null,
            "justify_content": null,
            "justify_items": null,
            "left": null,
            "margin": null,
            "max_height": null,
            "max_width": null,
            "min_height": null,
            "min_width": null,
            "object_fit": null,
            "object_position": null,
            "order": null,
            "overflow": null,
            "overflow_x": null,
            "overflow_y": null,
            "padding": null,
            "right": null,
            "top": null,
            "visibility": null,
            "width": null
          }
        },
        "ec60b5a7bd1f45e3817f1b8f968afc97": {
          "model_module": "@jupyter-widgets/controls",
          "model_name": "ProgressStyleModel",
          "model_module_version": "1.5.0",
          "state": {
            "_model_module": "@jupyter-widgets/controls",
            "_model_module_version": "1.5.0",
            "_model_name": "ProgressStyleModel",
            "_view_count": null,
            "_view_module": "@jupyter-widgets/base",
            "_view_module_version": "1.2.0",
            "_view_name": "StyleView",
            "bar_color": null,
            "description_width": ""
          }
        },
        "495212a17cd144ef8b7689791f57b075": {
          "model_module": "@jupyter-widgets/base",
          "model_name": "LayoutModel",
          "model_module_version": "1.2.0",
          "state": {
            "_model_module": "@jupyter-widgets/base",
            "_model_module_version": "1.2.0",
            "_model_name": "LayoutModel",
            "_view_count": null,
            "_view_module": "@jupyter-widgets/base",
            "_view_module_version": "1.2.0",
            "_view_name": "LayoutView",
            "align_content": null,
            "align_items": null,
            "align_self": null,
            "border": null,
            "bottom": null,
            "display": null,
            "flex": null,
            "flex_flow": null,
            "grid_area": null,
            "grid_auto_columns": null,
            "grid_auto_flow": null,
            "grid_auto_rows": null,
            "grid_column": null,
            "grid_gap": null,
            "grid_row": null,
            "grid_template_areas": null,
            "grid_template_columns": null,
            "grid_template_rows": null,
            "height": null,
            "justify_content": null,
            "justify_items": null,
            "left": null,
            "margin": null,
            "max_height": null,
            "max_width": null,
            "min_height": null,
            "min_width": null,
            "object_fit": null,
            "object_position": null,
            "order": null,
            "overflow": null,
            "overflow_x": null,
            "overflow_y": null,
            "padding": null,
            "right": null,
            "top": null,
            "visibility": null,
            "width": null
          }
        },
        "7941fcad532e4a6386d89ed8a6c22e58": {
          "model_module": "@jupyter-widgets/controls",
          "model_name": "DescriptionStyleModel",
          "model_module_version": "1.5.0",
          "state": {
            "_model_module": "@jupyter-widgets/controls",
            "_model_module_version": "1.5.0",
            "_model_name": "DescriptionStyleModel",
            "_view_count": null,
            "_view_module": "@jupyter-widgets/base",
            "_view_module_version": "1.2.0",
            "_view_name": "StyleView",
            "description_width": ""
          }
        },
        "d1220a41b1ae4caea7e27b945957ce73": {
          "model_module": "@jupyter-widgets/controls",
          "model_name": "HBoxModel",
          "model_module_version": "1.5.0",
          "state": {
            "_dom_classes": [],
            "_model_module": "@jupyter-widgets/controls",
            "_model_module_version": "1.5.0",
            "_model_name": "HBoxModel",
            "_view_count": null,
            "_view_module": "@jupyter-widgets/controls",
            "_view_module_version": "1.5.0",
            "_view_name": "HBoxView",
            "box_style": "",
            "children": [
              "IPY_MODEL_7f67b0631a3d4b2289ae6bf80476bb42",
              "IPY_MODEL_6ee49b274622454d8941c8c5d19285dc",
              "IPY_MODEL_b28906ca05a542f6be47fa064e7aa824"
            ],
            "layout": "IPY_MODEL_d91284d974d444be92bf73325f437c00"
          }
        },
        "7f67b0631a3d4b2289ae6bf80476bb42": {
          "model_module": "@jupyter-widgets/controls",
          "model_name": "HTMLModel",
          "model_module_version": "1.5.0",
          "state": {
            "_dom_classes": [],
            "_model_module": "@jupyter-widgets/controls",
            "_model_module_version": "1.5.0",
            "_model_name": "HTMLModel",
            "_view_count": null,
            "_view_module": "@jupyter-widgets/controls",
            "_view_module_version": "1.5.0",
            "_view_name": "HTMLView",
            "description": "",
            "description_tooltip": null,
            "layout": "IPY_MODEL_17fa0cff46c84cf6933b9cbd7f41c070",
            "placeholder": "​",
            "style": "IPY_MODEL_aa813c21c78a479a893e487163415ab8",
            "value": "tokenizer_config.json: 100%"
          }
        },
        "6ee49b274622454d8941c8c5d19285dc": {
          "model_module": "@jupyter-widgets/controls",
          "model_name": "FloatProgressModel",
          "model_module_version": "1.5.0",
          "state": {
            "_dom_classes": [],
            "_model_module": "@jupyter-widgets/controls",
            "_model_module_version": "1.5.0",
            "_model_name": "FloatProgressModel",
            "_view_count": null,
            "_view_module": "@jupyter-widgets/controls",
            "_view_module_version": "1.5.0",
            "_view_name": "ProgressView",
            "bar_style": "success",
            "description": "",
            "description_tooltip": null,
            "layout": "IPY_MODEL_687a26eab99442528fdc7b092cc520a1",
            "max": 39,
            "min": 0,
            "orientation": "horizontal",
            "style": "IPY_MODEL_1889b69667604748aab4f213e7e79631",
            "value": 39
          }
        },
        "b28906ca05a542f6be47fa064e7aa824": {
          "model_module": "@jupyter-widgets/controls",
          "model_name": "HTMLModel",
          "model_module_version": "1.5.0",
          "state": {
            "_dom_classes": [],
            "_model_module": "@jupyter-widgets/controls",
            "_model_module_version": "1.5.0",
            "_model_name": "HTMLModel",
            "_view_count": null,
            "_view_module": "@jupyter-widgets/controls",
            "_view_module_version": "1.5.0",
            "_view_name": "HTMLView",
            "description": "",
            "description_tooltip": null,
            "layout": "IPY_MODEL_ba4cd3ff981d4b5186373ecf111b8ef7",
            "placeholder": "​",
            "style": "IPY_MODEL_93969536b3c04bc3af6fd026995dba21",
            "value": " 39.0/39.0 [00:00&lt;00:00, 3.92kB/s]"
          }
        },
        "d91284d974d444be92bf73325f437c00": {
          "model_module": "@jupyter-widgets/base",
          "model_name": "LayoutModel",
          "model_module_version": "1.2.0",
          "state": {
            "_model_module": "@jupyter-widgets/base",
            "_model_module_version": "1.2.0",
            "_model_name": "LayoutModel",
            "_view_count": null,
            "_view_module": "@jupyter-widgets/base",
            "_view_module_version": "1.2.0",
            "_view_name": "LayoutView",
            "align_content": null,
            "align_items": null,
            "align_self": null,
            "border": null,
            "bottom": null,
            "display": null,
            "flex": null,
            "flex_flow": null,
            "grid_area": null,
            "grid_auto_columns": null,
            "grid_auto_flow": null,
            "grid_auto_rows": null,
            "grid_column": null,
            "grid_gap": null,
            "grid_row": null,
            "grid_template_areas": null,
            "grid_template_columns": null,
            "grid_template_rows": null,
            "height": null,
            "justify_content": null,
            "justify_items": null,
            "left": null,
            "margin": null,
            "max_height": null,
            "max_width": null,
            "min_height": null,
            "min_width": null,
            "object_fit": null,
            "object_position": null,
            "order": null,
            "overflow": null,
            "overflow_x": null,
            "overflow_y": null,
            "padding": null,
            "right": null,
            "top": null,
            "visibility": null,
            "width": null
          }
        },
        "17fa0cff46c84cf6933b9cbd7f41c070": {
          "model_module": "@jupyter-widgets/base",
          "model_name": "LayoutModel",
          "model_module_version": "1.2.0",
          "state": {
            "_model_module": "@jupyter-widgets/base",
            "_model_module_version": "1.2.0",
            "_model_name": "LayoutModel",
            "_view_count": null,
            "_view_module": "@jupyter-widgets/base",
            "_view_module_version": "1.2.0",
            "_view_name": "LayoutView",
            "align_content": null,
            "align_items": null,
            "align_self": null,
            "border": null,
            "bottom": null,
            "display": null,
            "flex": null,
            "flex_flow": null,
            "grid_area": null,
            "grid_auto_columns": null,
            "grid_auto_flow": null,
            "grid_auto_rows": null,
            "grid_column": null,
            "grid_gap": null,
            "grid_row": null,
            "grid_template_areas": null,
            "grid_template_columns": null,
            "grid_template_rows": null,
            "height": null,
            "justify_content": null,
            "justify_items": null,
            "left": null,
            "margin": null,
            "max_height": null,
            "max_width": null,
            "min_height": null,
            "min_width": null,
            "object_fit": null,
            "object_position": null,
            "order": null,
            "overflow": null,
            "overflow_x": null,
            "overflow_y": null,
            "padding": null,
            "right": null,
            "top": null,
            "visibility": null,
            "width": null
          }
        },
        "aa813c21c78a479a893e487163415ab8": {
          "model_module": "@jupyter-widgets/controls",
          "model_name": "DescriptionStyleModel",
          "model_module_version": "1.5.0",
          "state": {
            "_model_module": "@jupyter-widgets/controls",
            "_model_module_version": "1.5.0",
            "_model_name": "DescriptionStyleModel",
            "_view_count": null,
            "_view_module": "@jupyter-widgets/base",
            "_view_module_version": "1.2.0",
            "_view_name": "StyleView",
            "description_width": ""
          }
        },
        "687a26eab99442528fdc7b092cc520a1": {
          "model_module": "@jupyter-widgets/base",
          "model_name": "LayoutModel",
          "model_module_version": "1.2.0",
          "state": {
            "_model_module": "@jupyter-widgets/base",
            "_model_module_version": "1.2.0",
            "_model_name": "LayoutModel",
            "_view_count": null,
            "_view_module": "@jupyter-widgets/base",
            "_view_module_version": "1.2.0",
            "_view_name": "LayoutView",
            "align_content": null,
            "align_items": null,
            "align_self": null,
            "border": null,
            "bottom": null,
            "display": null,
            "flex": null,
            "flex_flow": null,
            "grid_area": null,
            "grid_auto_columns": null,
            "grid_auto_flow": null,
            "grid_auto_rows": null,
            "grid_column": null,
            "grid_gap": null,
            "grid_row": null,
            "grid_template_areas": null,
            "grid_template_columns": null,
            "grid_template_rows": null,
            "height": null,
            "justify_content": null,
            "justify_items": null,
            "left": null,
            "margin": null,
            "max_height": null,
            "max_width": null,
            "min_height": null,
            "min_width": null,
            "object_fit": null,
            "object_position": null,
            "order": null,
            "overflow": null,
            "overflow_x": null,
            "overflow_y": null,
            "padding": null,
            "right": null,
            "top": null,
            "visibility": null,
            "width": null
          }
        },
        "1889b69667604748aab4f213e7e79631": {
          "model_module": "@jupyter-widgets/controls",
          "model_name": "ProgressStyleModel",
          "model_module_version": "1.5.0",
          "state": {
            "_model_module": "@jupyter-widgets/controls",
            "_model_module_version": "1.5.0",
            "_model_name": "ProgressStyleModel",
            "_view_count": null,
            "_view_module": "@jupyter-widgets/base",
            "_view_module_version": "1.2.0",
            "_view_name": "StyleView",
            "bar_color": null,
            "description_width": ""
          }
        },
        "ba4cd3ff981d4b5186373ecf111b8ef7": {
          "model_module": "@jupyter-widgets/base",
          "model_name": "LayoutModel",
          "model_module_version": "1.2.0",
          "state": {
            "_model_module": "@jupyter-widgets/base",
            "_model_module_version": "1.2.0",
            "_model_name": "LayoutModel",
            "_view_count": null,
            "_view_module": "@jupyter-widgets/base",
            "_view_module_version": "1.2.0",
            "_view_name": "LayoutView",
            "align_content": null,
            "align_items": null,
            "align_self": null,
            "border": null,
            "bottom": null,
            "display": null,
            "flex": null,
            "flex_flow": null,
            "grid_area": null,
            "grid_auto_columns": null,
            "grid_auto_flow": null,
            "grid_auto_rows": null,
            "grid_column": null,
            "grid_gap": null,
            "grid_row": null,
            "grid_template_areas": null,
            "grid_template_columns": null,
            "grid_template_rows": null,
            "height": null,
            "justify_content": null,
            "justify_items": null,
            "left": null,
            "margin": null,
            "max_height": null,
            "max_width": null,
            "min_height": null,
            "min_width": null,
            "object_fit": null,
            "object_position": null,
            "order": null,
            "overflow": null,
            "overflow_x": null,
            "overflow_y": null,
            "padding": null,
            "right": null,
            "top": null,
            "visibility": null,
            "width": null
          }
        },
        "93969536b3c04bc3af6fd026995dba21": {
          "model_module": "@jupyter-widgets/controls",
          "model_name": "DescriptionStyleModel",
          "model_module_version": "1.5.0",
          "state": {
            "_model_module": "@jupyter-widgets/controls",
            "_model_module_version": "1.5.0",
            "_model_name": "DescriptionStyleModel",
            "_view_count": null,
            "_view_module": "@jupyter-widgets/base",
            "_view_module_version": "1.2.0",
            "_view_name": "StyleView",
            "description_width": ""
          }
        },
        "f4585bf4ca1c424091656e34caf3f1c9": {
          "model_module": "@jupyter-widgets/controls",
          "model_name": "HBoxModel",
          "model_module_version": "1.5.0",
          "state": {
            "_dom_classes": [],
            "_model_module": "@jupyter-widgets/controls",
            "_model_module_version": "1.5.0",
            "_model_name": "HBoxModel",
            "_view_count": null,
            "_view_module": "@jupyter-widgets/controls",
            "_view_module_version": "1.5.0",
            "_view_name": "HBoxView",
            "box_style": "",
            "children": [
              "IPY_MODEL_993e9f68f7b146088666ed4b059b3dde",
              "IPY_MODEL_5bced9b281f5487cbe319392af828d6b",
              "IPY_MODEL_5ad2d75cb52a4b1283d220ca41900875"
            ],
            "layout": "IPY_MODEL_18a5f8962c324d70b1549200c6105b9d"
          }
        },
        "993e9f68f7b146088666ed4b059b3dde": {
          "model_module": "@jupyter-widgets/controls",
          "model_name": "HTMLModel",
          "model_module_version": "1.5.0",
          "state": {
            "_dom_classes": [],
            "_model_module": "@jupyter-widgets/controls",
            "_model_module_version": "1.5.0",
            "_model_name": "HTMLModel",
            "_view_count": null,
            "_view_module": "@jupyter-widgets/controls",
            "_view_module_version": "1.5.0",
            "_view_name": "HTMLView",
            "description": "",
            "description_tooltip": null,
            "layout": "IPY_MODEL_9e3b468e6d1d4adea6f59894214f49d1",
            "placeholder": "​",
            "style": "IPY_MODEL_f8dab2a542c84e1a92b5b2f7d01c15f0",
            "value": "vocab.txt: 100%"
          }
        },
        "5bced9b281f5487cbe319392af828d6b": {
          "model_module": "@jupyter-widgets/controls",
          "model_name": "FloatProgressModel",
          "model_module_version": "1.5.0",
          "state": {
            "_dom_classes": [],
            "_model_module": "@jupyter-widgets/controls",
            "_model_module_version": "1.5.0",
            "_model_name": "FloatProgressModel",
            "_view_count": null,
            "_view_module": "@jupyter-widgets/controls",
            "_view_module_version": "1.5.0",
            "_view_name": "ProgressView",
            "bar_style": "success",
            "description": "",
            "description_tooltip": null,
            "layout": "IPY_MODEL_3f3c4aa7cbd145a58e5d47de3112d278",
            "max": 871891,
            "min": 0,
            "orientation": "horizontal",
            "style": "IPY_MODEL_ecf5ed559a93408f89eb07c587d207ad",
            "value": 871891
          }
        },
        "5ad2d75cb52a4b1283d220ca41900875": {
          "model_module": "@jupyter-widgets/controls",
          "model_name": "HTMLModel",
          "model_module_version": "1.5.0",
          "state": {
            "_dom_classes": [],
            "_model_module": "@jupyter-widgets/controls",
            "_model_module_version": "1.5.0",
            "_model_name": "HTMLModel",
            "_view_count": null,
            "_view_module": "@jupyter-widgets/controls",
            "_view_module_version": "1.5.0",
            "_view_name": "HTMLView",
            "description": "",
            "description_tooltip": null,
            "layout": "IPY_MODEL_00097fa61a944af5b3b0fbd2b5735214",
            "placeholder": "​",
            "style": "IPY_MODEL_9608701e99b1465587438d6b416900f6",
            "value": " 872k/872k [00:00&lt;00:00, 4.38MB/s]"
          }
        },
        "18a5f8962c324d70b1549200c6105b9d": {
          "model_module": "@jupyter-widgets/base",
          "model_name": "LayoutModel",
          "model_module_version": "1.2.0",
          "state": {
            "_model_module": "@jupyter-widgets/base",
            "_model_module_version": "1.2.0",
            "_model_name": "LayoutModel",
            "_view_count": null,
            "_view_module": "@jupyter-widgets/base",
            "_view_module_version": "1.2.0",
            "_view_name": "LayoutView",
            "align_content": null,
            "align_items": null,
            "align_self": null,
            "border": null,
            "bottom": null,
            "display": null,
            "flex": null,
            "flex_flow": null,
            "grid_area": null,
            "grid_auto_columns": null,
            "grid_auto_flow": null,
            "grid_auto_rows": null,
            "grid_column": null,
            "grid_gap": null,
            "grid_row": null,
            "grid_template_areas": null,
            "grid_template_columns": null,
            "grid_template_rows": null,
            "height": null,
            "justify_content": null,
            "justify_items": null,
            "left": null,
            "margin": null,
            "max_height": null,
            "max_width": null,
            "min_height": null,
            "min_width": null,
            "object_fit": null,
            "object_position": null,
            "order": null,
            "overflow": null,
            "overflow_x": null,
            "overflow_y": null,
            "padding": null,
            "right": null,
            "top": null,
            "visibility": null,
            "width": null
          }
        },
        "9e3b468e6d1d4adea6f59894214f49d1": {
          "model_module": "@jupyter-widgets/base",
          "model_name": "LayoutModel",
          "model_module_version": "1.2.0",
          "state": {
            "_model_module": "@jupyter-widgets/base",
            "_model_module_version": "1.2.0",
            "_model_name": "LayoutModel",
            "_view_count": null,
            "_view_module": "@jupyter-widgets/base",
            "_view_module_version": "1.2.0",
            "_view_name": "LayoutView",
            "align_content": null,
            "align_items": null,
            "align_self": null,
            "border": null,
            "bottom": null,
            "display": null,
            "flex": null,
            "flex_flow": null,
            "grid_area": null,
            "grid_auto_columns": null,
            "grid_auto_flow": null,
            "grid_auto_rows": null,
            "grid_column": null,
            "grid_gap": null,
            "grid_row": null,
            "grid_template_areas": null,
            "grid_template_columns": null,
            "grid_template_rows": null,
            "height": null,
            "justify_content": null,
            "justify_items": null,
            "left": null,
            "margin": null,
            "max_height": null,
            "max_width": null,
            "min_height": null,
            "min_width": null,
            "object_fit": null,
            "object_position": null,
            "order": null,
            "overflow": null,
            "overflow_x": null,
            "overflow_y": null,
            "padding": null,
            "right": null,
            "top": null,
            "visibility": null,
            "width": null
          }
        },
        "f8dab2a542c84e1a92b5b2f7d01c15f0": {
          "model_module": "@jupyter-widgets/controls",
          "model_name": "DescriptionStyleModel",
          "model_module_version": "1.5.0",
          "state": {
            "_model_module": "@jupyter-widgets/controls",
            "_model_module_version": "1.5.0",
            "_model_name": "DescriptionStyleModel",
            "_view_count": null,
            "_view_module": "@jupyter-widgets/base",
            "_view_module_version": "1.2.0",
            "_view_name": "StyleView",
            "description_width": ""
          }
        },
        "3f3c4aa7cbd145a58e5d47de3112d278": {
          "model_module": "@jupyter-widgets/base",
          "model_name": "LayoutModel",
          "model_module_version": "1.2.0",
          "state": {
            "_model_module": "@jupyter-widgets/base",
            "_model_module_version": "1.2.0",
            "_model_name": "LayoutModel",
            "_view_count": null,
            "_view_module": "@jupyter-widgets/base",
            "_view_module_version": "1.2.0",
            "_view_name": "LayoutView",
            "align_content": null,
            "align_items": null,
            "align_self": null,
            "border": null,
            "bottom": null,
            "display": null,
            "flex": null,
            "flex_flow": null,
            "grid_area": null,
            "grid_auto_columns": null,
            "grid_auto_flow": null,
            "grid_auto_rows": null,
            "grid_column": null,
            "grid_gap": null,
            "grid_row": null,
            "grid_template_areas": null,
            "grid_template_columns": null,
            "grid_template_rows": null,
            "height": null,
            "justify_content": null,
            "justify_items": null,
            "left": null,
            "margin": null,
            "max_height": null,
            "max_width": null,
            "min_height": null,
            "min_width": null,
            "object_fit": null,
            "object_position": null,
            "order": null,
            "overflow": null,
            "overflow_x": null,
            "overflow_y": null,
            "padding": null,
            "right": null,
            "top": null,
            "visibility": null,
            "width": null
          }
        },
        "ecf5ed559a93408f89eb07c587d207ad": {
          "model_module": "@jupyter-widgets/controls",
          "model_name": "ProgressStyleModel",
          "model_module_version": "1.5.0",
          "state": {
            "_model_module": "@jupyter-widgets/controls",
            "_model_module_version": "1.5.0",
            "_model_name": "ProgressStyleModel",
            "_view_count": null,
            "_view_module": "@jupyter-widgets/base",
            "_view_module_version": "1.2.0",
            "_view_name": "StyleView",
            "bar_color": null,
            "description_width": ""
          }
        },
        "00097fa61a944af5b3b0fbd2b5735214": {
          "model_module": "@jupyter-widgets/base",
          "model_name": "LayoutModel",
          "model_module_version": "1.2.0",
          "state": {
            "_model_module": "@jupyter-widgets/base",
            "_model_module_version": "1.2.0",
            "_model_name": "LayoutModel",
            "_view_count": null,
            "_view_module": "@jupyter-widgets/base",
            "_view_module_version": "1.2.0",
            "_view_name": "LayoutView",
            "align_content": null,
            "align_items": null,
            "align_self": null,
            "border": null,
            "bottom": null,
            "display": null,
            "flex": null,
            "flex_flow": null,
            "grid_area": null,
            "grid_auto_columns": null,
            "grid_auto_flow": null,
            "grid_auto_rows": null,
            "grid_column": null,
            "grid_gap": null,
            "grid_row": null,
            "grid_template_areas": null,
            "grid_template_columns": null,
            "grid_template_rows": null,
            "height": null,
            "justify_content": null,
            "justify_items": null,
            "left": null,
            "margin": null,
            "max_height": null,
            "max_width": null,
            "min_height": null,
            "min_width": null,
            "object_fit": null,
            "object_position": null,
            "order": null,
            "overflow": null,
            "overflow_x": null,
            "overflow_y": null,
            "padding": null,
            "right": null,
            "top": null,
            "visibility": null,
            "width": null
          }
        },
        "9608701e99b1465587438d6b416900f6": {
          "model_module": "@jupyter-widgets/controls",
          "model_name": "DescriptionStyleModel",
          "model_module_version": "1.5.0",
          "state": {
            "_model_module": "@jupyter-widgets/controls",
            "_model_module_version": "1.5.0",
            "_model_name": "DescriptionStyleModel",
            "_view_count": null,
            "_view_module": "@jupyter-widgets/base",
            "_view_module_version": "1.2.0",
            "_view_name": "StyleView",
            "description_width": ""
          }
        },
        "8c9201e79e964fde828a24efb50528c0": {
          "model_module": "@jupyter-widgets/controls",
          "model_name": "HBoxModel",
          "model_module_version": "1.5.0",
          "state": {
            "_dom_classes": [],
            "_model_module": "@jupyter-widgets/controls",
            "_model_module_version": "1.5.0",
            "_model_name": "HBoxModel",
            "_view_count": null,
            "_view_module": "@jupyter-widgets/controls",
            "_view_module_version": "1.5.0",
            "_view_name": "HBoxView",
            "box_style": "",
            "children": [
              "IPY_MODEL_c269c6f9884e43d88b56972c5daea3fb",
              "IPY_MODEL_7a664e96ec8740dd883c2743ed047f0d",
              "IPY_MODEL_e8f17166bbdd48f792613d27b996def7"
            ],
            "layout": "IPY_MODEL_29c43d219a3f469987d150301747ca39"
          }
        },
        "c269c6f9884e43d88b56972c5daea3fb": {
          "model_module": "@jupyter-widgets/controls",
          "model_name": "HTMLModel",
          "model_module_version": "1.5.0",
          "state": {
            "_dom_classes": [],
            "_model_module": "@jupyter-widgets/controls",
            "_model_module_version": "1.5.0",
            "_model_name": "HTMLModel",
            "_view_count": null,
            "_view_module": "@jupyter-widgets/controls",
            "_view_module_version": "1.5.0",
            "_view_name": "HTMLView",
            "description": "",
            "description_tooltip": null,
            "layout": "IPY_MODEL_af87f16fae5f415a8bb66f665246f3e7",
            "placeholder": "​",
            "style": "IPY_MODEL_e8b058c0407d4551b1944ec1c7cc7d85",
            "value": "special_tokens_map.json: 100%"
          }
        },
        "7a664e96ec8740dd883c2743ed047f0d": {
          "model_module": "@jupyter-widgets/controls",
          "model_name": "FloatProgressModel",
          "model_module_version": "1.5.0",
          "state": {
            "_dom_classes": [],
            "_model_module": "@jupyter-widgets/controls",
            "_model_module_version": "1.5.0",
            "_model_name": "FloatProgressModel",
            "_view_count": null,
            "_view_module": "@jupyter-widgets/controls",
            "_view_module_version": "1.5.0",
            "_view_name": "ProgressView",
            "bar_style": "success",
            "description": "",
            "description_tooltip": null,
            "layout": "IPY_MODEL_b8604b3a22cb44e8a29d3539b2a1c42e",
            "max": 112,
            "min": 0,
            "orientation": "horizontal",
            "style": "IPY_MODEL_c40489e95efa4ce490f77583c95f056e",
            "value": 112
          }
        },
        "e8f17166bbdd48f792613d27b996def7": {
          "model_module": "@jupyter-widgets/controls",
          "model_name": "HTMLModel",
          "model_module_version": "1.5.0",
          "state": {
            "_dom_classes": [],
            "_model_module": "@jupyter-widgets/controls",
            "_model_module_version": "1.5.0",
            "_model_name": "HTMLModel",
            "_view_count": null,
            "_view_module": "@jupyter-widgets/controls",
            "_view_module_version": "1.5.0",
            "_view_name": "HTMLView",
            "description": "",
            "description_tooltip": null,
            "layout": "IPY_MODEL_2b3bfbe9e22846859bc8705f36ca03a4",
            "placeholder": "​",
            "style": "IPY_MODEL_612278acbe9e4eb68c8082dc14213c72",
            "value": " 112/112 [00:00&lt;00:00, 7.90kB/s]"
          }
        },
        "29c43d219a3f469987d150301747ca39": {
          "model_module": "@jupyter-widgets/base",
          "model_name": "LayoutModel",
          "model_module_version": "1.2.0",
          "state": {
            "_model_module": "@jupyter-widgets/base",
            "_model_module_version": "1.2.0",
            "_model_name": "LayoutModel",
            "_view_count": null,
            "_view_module": "@jupyter-widgets/base",
            "_view_module_version": "1.2.0",
            "_view_name": "LayoutView",
            "align_content": null,
            "align_items": null,
            "align_self": null,
            "border": null,
            "bottom": null,
            "display": null,
            "flex": null,
            "flex_flow": null,
            "grid_area": null,
            "grid_auto_columns": null,
            "grid_auto_flow": null,
            "grid_auto_rows": null,
            "grid_column": null,
            "grid_gap": null,
            "grid_row": null,
            "grid_template_areas": null,
            "grid_template_columns": null,
            "grid_template_rows": null,
            "height": null,
            "justify_content": null,
            "justify_items": null,
            "left": null,
            "margin": null,
            "max_height": null,
            "max_width": null,
            "min_height": null,
            "min_width": null,
            "object_fit": null,
            "object_position": null,
            "order": null,
            "overflow": null,
            "overflow_x": null,
            "overflow_y": null,
            "padding": null,
            "right": null,
            "top": null,
            "visibility": null,
            "width": null
          }
        },
        "af87f16fae5f415a8bb66f665246f3e7": {
          "model_module": "@jupyter-widgets/base",
          "model_name": "LayoutModel",
          "model_module_version": "1.2.0",
          "state": {
            "_model_module": "@jupyter-widgets/base",
            "_model_module_version": "1.2.0",
            "_model_name": "LayoutModel",
            "_view_count": null,
            "_view_module": "@jupyter-widgets/base",
            "_view_module_version": "1.2.0",
            "_view_name": "LayoutView",
            "align_content": null,
            "align_items": null,
            "align_self": null,
            "border": null,
            "bottom": null,
            "display": null,
            "flex": null,
            "flex_flow": null,
            "grid_area": null,
            "grid_auto_columns": null,
            "grid_auto_flow": null,
            "grid_auto_rows": null,
            "grid_column": null,
            "grid_gap": null,
            "grid_row": null,
            "grid_template_areas": null,
            "grid_template_columns": null,
            "grid_template_rows": null,
            "height": null,
            "justify_content": null,
            "justify_items": null,
            "left": null,
            "margin": null,
            "max_height": null,
            "max_width": null,
            "min_height": null,
            "min_width": null,
            "object_fit": null,
            "object_position": null,
            "order": null,
            "overflow": null,
            "overflow_x": null,
            "overflow_y": null,
            "padding": null,
            "right": null,
            "top": null,
            "visibility": null,
            "width": null
          }
        },
        "e8b058c0407d4551b1944ec1c7cc7d85": {
          "model_module": "@jupyter-widgets/controls",
          "model_name": "DescriptionStyleModel",
          "model_module_version": "1.5.0",
          "state": {
            "_model_module": "@jupyter-widgets/controls",
            "_model_module_version": "1.5.0",
            "_model_name": "DescriptionStyleModel",
            "_view_count": null,
            "_view_module": "@jupyter-widgets/base",
            "_view_module_version": "1.2.0",
            "_view_name": "StyleView",
            "description_width": ""
          }
        },
        "b8604b3a22cb44e8a29d3539b2a1c42e": {
          "model_module": "@jupyter-widgets/base",
          "model_name": "LayoutModel",
          "model_module_version": "1.2.0",
          "state": {
            "_model_module": "@jupyter-widgets/base",
            "_model_module_version": "1.2.0",
            "_model_name": "LayoutModel",
            "_view_count": null,
            "_view_module": "@jupyter-widgets/base",
            "_view_module_version": "1.2.0",
            "_view_name": "LayoutView",
            "align_content": null,
            "align_items": null,
            "align_self": null,
            "border": null,
            "bottom": null,
            "display": null,
            "flex": null,
            "flex_flow": null,
            "grid_area": null,
            "grid_auto_columns": null,
            "grid_auto_flow": null,
            "grid_auto_rows": null,
            "grid_column": null,
            "grid_gap": null,
            "grid_row": null,
            "grid_template_areas": null,
            "grid_template_columns": null,
            "grid_template_rows": null,
            "height": null,
            "justify_content": null,
            "justify_items": null,
            "left": null,
            "margin": null,
            "max_height": null,
            "max_width": null,
            "min_height": null,
            "min_width": null,
            "object_fit": null,
            "object_position": null,
            "order": null,
            "overflow": null,
            "overflow_x": null,
            "overflow_y": null,
            "padding": null,
            "right": null,
            "top": null,
            "visibility": null,
            "width": null
          }
        },
        "c40489e95efa4ce490f77583c95f056e": {
          "model_module": "@jupyter-widgets/controls",
          "model_name": "ProgressStyleModel",
          "model_module_version": "1.5.0",
          "state": {
            "_model_module": "@jupyter-widgets/controls",
            "_model_module_version": "1.5.0",
            "_model_name": "ProgressStyleModel",
            "_view_count": null,
            "_view_module": "@jupyter-widgets/base",
            "_view_module_version": "1.2.0",
            "_view_name": "StyleView",
            "bar_color": null,
            "description_width": ""
          }
        },
        "2b3bfbe9e22846859bc8705f36ca03a4": {
          "model_module": "@jupyter-widgets/base",
          "model_name": "LayoutModel",
          "model_module_version": "1.2.0",
          "state": {
            "_model_module": "@jupyter-widgets/base",
            "_model_module_version": "1.2.0",
            "_model_name": "LayoutModel",
            "_view_count": null,
            "_view_module": "@jupyter-widgets/base",
            "_view_module_version": "1.2.0",
            "_view_name": "LayoutView",
            "align_content": null,
            "align_items": null,
            "align_self": null,
            "border": null,
            "bottom": null,
            "display": null,
            "flex": null,
            "flex_flow": null,
            "grid_area": null,
            "grid_auto_columns": null,
            "grid_auto_flow": null,
            "grid_auto_rows": null,
            "grid_column": null,
            "grid_gap": null,
            "grid_row": null,
            "grid_template_areas": null,
            "grid_template_columns": null,
            "grid_template_rows": null,
            "height": null,
            "justify_content": null,
            "justify_items": null,
            "left": null,
            "margin": null,
            "max_height": null,
            "max_width": null,
            "min_height": null,
            "min_width": null,
            "object_fit": null,
            "object_position": null,
            "order": null,
            "overflow": null,
            "overflow_x": null,
            "overflow_y": null,
            "padding": null,
            "right": null,
            "top": null,
            "visibility": null,
            "width": null
          }
        },
        "612278acbe9e4eb68c8082dc14213c72": {
          "model_module": "@jupyter-widgets/controls",
          "model_name": "DescriptionStyleModel",
          "model_module_version": "1.5.0",
          "state": {
            "_model_module": "@jupyter-widgets/controls",
            "_model_module_version": "1.5.0",
            "_model_name": "DescriptionStyleModel",
            "_view_count": null,
            "_view_module": "@jupyter-widgets/base",
            "_view_module_version": "1.2.0",
            "_view_name": "StyleView",
            "description_width": ""
          }
        }
      }
    }
  },
  "nbformat": 4,
  "nbformat_minor": 0
}